{
 "cells": [
  {
   "cell_type": "markdown",
   "metadata": {},
   "source": [
    "# Applied Data Science Capstone Project\n",
    "## Final Project of [IBM's Data Science Professional Certificate Course] (https://www.coursera.org/professional-certificates/ibm-data-science)"
   ]
  },
  {
   "cell_type": "markdown",
   "metadata": {},
   "source": [
    "First, let's import all the libraries needed"
   ]
  },
  {
   "cell_type": "code",
   "execution_count": 1,
   "metadata": {},
   "outputs": [],
   "source": [
    "import pandas as pd\n",
    "import numpy as np \n",
    "import geocoder\n",
    "import requests \n",
    "import folium\n",
    "\n",
    "import matplotlib.cm as cm\n",
    "import matplotlib.colors as colors\n",
    "\n",
    "from pandas.io.html import read_html\n",
    "from sklearn.cluster import KMeans\n"
   ]
  },
  {
   "cell_type": "markdown",
   "metadata": {},
   "source": [
    "### Downloading Data\n",
    "Let's scrape the Toronto's neighborhoods dataframe from a wikipedia table"
   ]
  },
  {
   "cell_type": "code",
   "execution_count": 2,
   "metadata": {},
   "outputs": [],
   "source": [
    "# Get a list of wiki tables from the following link \n",
    "page = 'https://en.wikipedia.org/wiki/List_of_postal_codes_of_Canada:_M'\n",
    "wikitable = read_html(page,  attrs = {\"class\":\"wikitable\"})\n",
    "\n",
    "# Get the dataframe for the first table \n",
    "df_toronto = wikitable[0]"
   ]
  },
  {
   "cell_type": "markdown",
   "metadata": {},
   "source": [
    "### Pre-processing"
   ]
  },
  {
   "cell_type": "code",
   "execution_count": 3,
   "metadata": {},
   "outputs": [
    {
     "output_type": "execute_result",
     "data": {
      "text/plain": "   Postalcode           Borough  \\\n0         M3A        North York   \n1         M4A        North York   \n2         M5A  Downtown Toronto   \n3         M6A        North York   \n4         M7A  Downtown Toronto   \n5         M9A         Etobicoke   \n6         M1B       Scarborough   \n7         M4B         East York   \n8         M5B  Downtown Toronto   \n9         M6B        North York   \n10        M9B         Etobicoke   \n11        M1C       Scarborough   \n12        M4C         East York   \n13        M5C  Downtown Toronto   \n14        M6C              York   \n15        M9C         Etobicoke   \n16        M1E       Scarborough   \n17        M4E      East Toronto   \n18        M5E  Downtown Toronto   \n19        M6E              York   \n\n                                         Neighborhood  \n0                                           Parkwoods  \n1                                    Victoria Village  \n2                           Regent Park, Harbourfront  \n3                    Lawrence Manor, Lawrence Heights  \n4         Queen's Park, Ontario Provincial Government  \n5                                    Islington Avenue  \n6                                      Malvern, Rouge  \n7                     Parkview Hill, Woodbine Gardens  \n8                            Garden District, Ryerson  \n9                                           Glencairn  \n10  West Deane Park, Princess Gardens, Martin Grov...  \n11             Rouge Hill, Port Union, Highland Creek  \n12                                   Woodbine Heights  \n13                                     St. James Town  \n14                                 Humewood-Cedarvale  \n15  Eringate, Bloordale Gardens, Old Burnhamthorpe...  \n16                  Guildwood, Morningside, West Hill  \n17                                        The Beaches  \n18                                        Berczy Park  \n19                                Caledonia-Fairbanks  ",
      "text/html": "<div>\n<style scoped>\n    .dataframe tbody tr th:only-of-type {\n        vertical-align: middle;\n    }\n\n    .dataframe tbody tr th {\n        vertical-align: top;\n    }\n\n    .dataframe thead th {\n        text-align: right;\n    }\n</style>\n<table border=\"1\" class=\"dataframe\">\n  <thead>\n    <tr style=\"text-align: right;\">\n      <th></th>\n      <th>Postalcode</th>\n      <th>Borough</th>\n      <th>Neighborhood</th>\n    </tr>\n  </thead>\n  <tbody>\n    <tr>\n      <th>0</th>\n      <td>M3A</td>\n      <td>North York</td>\n      <td>Parkwoods</td>\n    </tr>\n    <tr>\n      <th>1</th>\n      <td>M4A</td>\n      <td>North York</td>\n      <td>Victoria Village</td>\n    </tr>\n    <tr>\n      <th>2</th>\n      <td>M5A</td>\n      <td>Downtown Toronto</td>\n      <td>Regent Park, Harbourfront</td>\n    </tr>\n    <tr>\n      <th>3</th>\n      <td>M6A</td>\n      <td>North York</td>\n      <td>Lawrence Manor, Lawrence Heights</td>\n    </tr>\n    <tr>\n      <th>4</th>\n      <td>M7A</td>\n      <td>Downtown Toronto</td>\n      <td>Queen's Park, Ontario Provincial Government</td>\n    </tr>\n    <tr>\n      <th>5</th>\n      <td>M9A</td>\n      <td>Etobicoke</td>\n      <td>Islington Avenue</td>\n    </tr>\n    <tr>\n      <th>6</th>\n      <td>M1B</td>\n      <td>Scarborough</td>\n      <td>Malvern, Rouge</td>\n    </tr>\n    <tr>\n      <th>7</th>\n      <td>M4B</td>\n      <td>East York</td>\n      <td>Parkview Hill, Woodbine Gardens</td>\n    </tr>\n    <tr>\n      <th>8</th>\n      <td>M5B</td>\n      <td>Downtown Toronto</td>\n      <td>Garden District, Ryerson</td>\n    </tr>\n    <tr>\n      <th>9</th>\n      <td>M6B</td>\n      <td>North York</td>\n      <td>Glencairn</td>\n    </tr>\n    <tr>\n      <th>10</th>\n      <td>M9B</td>\n      <td>Etobicoke</td>\n      <td>West Deane Park, Princess Gardens, Martin Grov...</td>\n    </tr>\n    <tr>\n      <th>11</th>\n      <td>M1C</td>\n      <td>Scarborough</td>\n      <td>Rouge Hill, Port Union, Highland Creek</td>\n    </tr>\n    <tr>\n      <th>12</th>\n      <td>M4C</td>\n      <td>East York</td>\n      <td>Woodbine Heights</td>\n    </tr>\n    <tr>\n      <th>13</th>\n      <td>M5C</td>\n      <td>Downtown Toronto</td>\n      <td>St. James Town</td>\n    </tr>\n    <tr>\n      <th>14</th>\n      <td>M6C</td>\n      <td>York</td>\n      <td>Humewood-Cedarvale</td>\n    </tr>\n    <tr>\n      <th>15</th>\n      <td>M9C</td>\n      <td>Etobicoke</td>\n      <td>Eringate, Bloordale Gardens, Old Burnhamthorpe...</td>\n    </tr>\n    <tr>\n      <th>16</th>\n      <td>M1E</td>\n      <td>Scarborough</td>\n      <td>Guildwood, Morningside, West Hill</td>\n    </tr>\n    <tr>\n      <th>17</th>\n      <td>M4E</td>\n      <td>East Toronto</td>\n      <td>The Beaches</td>\n    </tr>\n    <tr>\n      <th>18</th>\n      <td>M5E</td>\n      <td>Downtown Toronto</td>\n      <td>Berczy Park</td>\n    </tr>\n    <tr>\n      <th>19</th>\n      <td>M6E</td>\n      <td>York</td>\n      <td>Caledonia-Fairbanks</td>\n    </tr>\n  </tbody>\n</table>\n</div>"
     },
     "metadata": {},
     "execution_count": 3
    }
   ],
   "source": [
    "# Drop all rows where borough is not assigned\n",
    "df_toronto.drop(df_toronto[df_toronto['Borough'] == 'Not assigned'].index, inplace = True)\n",
    "\n",
    "# Drop duplicate values\n",
    "df_toronto.drop_duplicates(subset = 'Neighborhood', keep = False, inplace = True)\n",
    "\n",
    "# As neighborhoods are already grouped by postal codes, only replace the slashes with commas \n",
    "for i in df_toronto.index:\n",
    "    df_toronto.at[i, 'Neighborhood'] = df_toronto.at[i, 'Neighborhood'].replace(\" /\", \",\")\n",
    "\n",
    "# Also, there are no \"Not assigned\" neighborhoods, so there is no need to correct it\n",
    "\n",
    "# Reset the index, as some rows were dropped \n",
    "df_toronto.reset_index(drop = True, inplace = True)\n",
    "\n",
    "# Print the dataframe\n",
    "df_toronto.head(20)"
   ]
  },
  {
   "cell_type": "markdown",
   "metadata": {},
   "source": [
    "Let's create a subset containing only the boroughs with \"Toronto\" in its name, to make it simpler to analyze it"
   ]
  },
  {
   "cell_type": "code",
   "execution_count": 4,
   "metadata": {},
   "outputs": [],
   "source": [
    "boroughs_containing_toronto = df_toronto[df_toronto['Borough'].str.contains(\"Toronto\")].reset_index(drop=True)"
   ]
  },
  {
   "cell_type": "markdown",
   "metadata": {},
   "source": [
    "Now, let's add the Latitude and Logitude for each location "
   ]
  },
  {
   "cell_type": "code",
   "execution_count": 5,
   "metadata": {},
   "outputs": [
    {
     "output_type": "execute_result",
     "data": {
      "text/plain": "   Postalcode           Borough  \\\n0         M5A  Downtown Toronto   \n1         M7A  Downtown Toronto   \n2         M5B  Downtown Toronto   \n3         M5C  Downtown Toronto   \n4         M4E      East Toronto   \n5         M5E  Downtown Toronto   \n6         M5G  Downtown Toronto   \n7         M6G  Downtown Toronto   \n8         M5H  Downtown Toronto   \n9         M6H      West Toronto   \n10        M5J  Downtown Toronto   \n11        M6J      West Toronto   \n12        M4K      East Toronto   \n13        M5K  Downtown Toronto   \n14        M6K      West Toronto   \n15        M4L      East Toronto   \n16        M5L  Downtown Toronto   \n17        M4M      East Toronto   \n18        M4N   Central Toronto   \n19        M5N   Central Toronto   \n\n                                         Neighborhood   Latitude  Longitude  \n0                           Regent Park, Harbourfront  43.650964 -79.353041  \n1         Queen's Park, Ontario Provincial Government  43.661790 -79.389390  \n2                            Garden District, Ryerson  43.657491 -79.377529  \n3                                      St. James Town  43.651734 -79.375554  \n4                                         The Beaches  43.678148 -79.295349  \n5                                         Berczy Park  43.645196 -79.373855  \n6                                  Central Bay Street  43.656072 -79.385653  \n7                                            Christie  43.668602 -79.420387  \n8                            Richmond, Adelaide, King  43.650542 -79.384116  \n9                        Dufferin, Dovercourt Village  43.664910 -79.438664  \n10  Harbourfront East, Union Station, Toronto Islands  43.623750 -79.369200  \n11                           Little Portugal, Trinity  43.648636 -79.417752  \n12                       The Danforth West, Riverdale  43.683424 -79.354564  \n13           Toronto Dominion Centre, Design Exchange  43.646923 -79.381626  \n14       Brockton, Parkdale Village, Exhibition Place  43.639922 -79.431240  \n15                     India Bazaar, The Beaches West  43.668291 -79.315578  \n16                     Commerce Court, Victoria Hotel  43.648283 -79.378750  \n17                                    Studio District  43.648000 -79.339260  \n18                                      Lawrence Park  43.729455 -79.386415  \n19                                           Roselawn  43.710634 -79.418748  ",
      "text/html": "<div>\n<style scoped>\n    .dataframe tbody tr th:only-of-type {\n        vertical-align: middle;\n    }\n\n    .dataframe tbody tr th {\n        vertical-align: top;\n    }\n\n    .dataframe thead th {\n        text-align: right;\n    }\n</style>\n<table border=\"1\" class=\"dataframe\">\n  <thead>\n    <tr style=\"text-align: right;\">\n      <th></th>\n      <th>Postalcode</th>\n      <th>Borough</th>\n      <th>Neighborhood</th>\n      <th>Latitude</th>\n      <th>Longitude</th>\n    </tr>\n  </thead>\n  <tbody>\n    <tr>\n      <th>0</th>\n      <td>M5A</td>\n      <td>Downtown Toronto</td>\n      <td>Regent Park, Harbourfront</td>\n      <td>43.650964</td>\n      <td>-79.353041</td>\n    </tr>\n    <tr>\n      <th>1</th>\n      <td>M7A</td>\n      <td>Downtown Toronto</td>\n      <td>Queen's Park, Ontario Provincial Government</td>\n      <td>43.661790</td>\n      <td>-79.389390</td>\n    </tr>\n    <tr>\n      <th>2</th>\n      <td>M5B</td>\n      <td>Downtown Toronto</td>\n      <td>Garden District, Ryerson</td>\n      <td>43.657491</td>\n      <td>-79.377529</td>\n    </tr>\n    <tr>\n      <th>3</th>\n      <td>M5C</td>\n      <td>Downtown Toronto</td>\n      <td>St. James Town</td>\n      <td>43.651734</td>\n      <td>-79.375554</td>\n    </tr>\n    <tr>\n      <th>4</th>\n      <td>M4E</td>\n      <td>East Toronto</td>\n      <td>The Beaches</td>\n      <td>43.678148</td>\n      <td>-79.295349</td>\n    </tr>\n    <tr>\n      <th>5</th>\n      <td>M5E</td>\n      <td>Downtown Toronto</td>\n      <td>Berczy Park</td>\n      <td>43.645196</td>\n      <td>-79.373855</td>\n    </tr>\n    <tr>\n      <th>6</th>\n      <td>M5G</td>\n      <td>Downtown Toronto</td>\n      <td>Central Bay Street</td>\n      <td>43.656072</td>\n      <td>-79.385653</td>\n    </tr>\n    <tr>\n      <th>7</th>\n      <td>M6G</td>\n      <td>Downtown Toronto</td>\n      <td>Christie</td>\n      <td>43.668602</td>\n      <td>-79.420387</td>\n    </tr>\n    <tr>\n      <th>8</th>\n      <td>M5H</td>\n      <td>Downtown Toronto</td>\n      <td>Richmond, Adelaide, King</td>\n      <td>43.650542</td>\n      <td>-79.384116</td>\n    </tr>\n    <tr>\n      <th>9</th>\n      <td>M6H</td>\n      <td>West Toronto</td>\n      <td>Dufferin, Dovercourt Village</td>\n      <td>43.664910</td>\n      <td>-79.438664</td>\n    </tr>\n    <tr>\n      <th>10</th>\n      <td>M5J</td>\n      <td>Downtown Toronto</td>\n      <td>Harbourfront East, Union Station, Toronto Islands</td>\n      <td>43.623750</td>\n      <td>-79.369200</td>\n    </tr>\n    <tr>\n      <th>11</th>\n      <td>M6J</td>\n      <td>West Toronto</td>\n      <td>Little Portugal, Trinity</td>\n      <td>43.648636</td>\n      <td>-79.417752</td>\n    </tr>\n    <tr>\n      <th>12</th>\n      <td>M4K</td>\n      <td>East Toronto</td>\n      <td>The Danforth West, Riverdale</td>\n      <td>43.683424</td>\n      <td>-79.354564</td>\n    </tr>\n    <tr>\n      <th>13</th>\n      <td>M5K</td>\n      <td>Downtown Toronto</td>\n      <td>Toronto Dominion Centre, Design Exchange</td>\n      <td>43.646923</td>\n      <td>-79.381626</td>\n    </tr>\n    <tr>\n      <th>14</th>\n      <td>M6K</td>\n      <td>West Toronto</td>\n      <td>Brockton, Parkdale Village, Exhibition Place</td>\n      <td>43.639922</td>\n      <td>-79.431240</td>\n    </tr>\n    <tr>\n      <th>15</th>\n      <td>M4L</td>\n      <td>East Toronto</td>\n      <td>India Bazaar, The Beaches West</td>\n      <td>43.668291</td>\n      <td>-79.315578</td>\n    </tr>\n    <tr>\n      <th>16</th>\n      <td>M5L</td>\n      <td>Downtown Toronto</td>\n      <td>Commerce Court, Victoria Hotel</td>\n      <td>43.648283</td>\n      <td>-79.378750</td>\n    </tr>\n    <tr>\n      <th>17</th>\n      <td>M4M</td>\n      <td>East Toronto</td>\n      <td>Studio District</td>\n      <td>43.648000</td>\n      <td>-79.339260</td>\n    </tr>\n    <tr>\n      <th>18</th>\n      <td>M4N</td>\n      <td>Central Toronto</td>\n      <td>Lawrence Park</td>\n      <td>43.729455</td>\n      <td>-79.386415</td>\n    </tr>\n    <tr>\n      <th>19</th>\n      <td>M5N</td>\n      <td>Central Toronto</td>\n      <td>Roselawn</td>\n      <td>43.710634</td>\n      <td>-79.418748</td>\n    </tr>\n  </tbody>\n</table>\n</div>"
     },
     "metadata": {},
     "execution_count": 5
    }
   ],
   "source": [
    "latitude = []\n",
    "longitude = []\n",
    "\n",
    "# For each postal code, we find its coordinates and append it to the latitude and longitude lists\n",
    "for postal_code in boroughs_containing_toronto['Postalcode']:\n",
    "    lat_lng_coords = None\n",
    "\n",
    "    while(lat_lng_coords is None):\n",
    "        g = geocoder.arcgis('{}, Toronto, Ontario'.format(postal_code))\n",
    "        lat_lng_coords = g.latlng\n",
    "\n",
    "    latitude.append(lat_lng_coords[0])\n",
    "    longitude.append(lat_lng_coords[1])\n",
    "\n",
    "# Create new columns with the latitude and longitude lists\n",
    "boroughs_containing_toronto['Latitude'] = latitude\n",
    "boroughs_containing_toronto['Longitude'] = longitude\n",
    "\n",
    "# Print the dataframe \n",
    "boroughs_containing_toronto.head(20)"
   ]
  },
  {
   "cell_type": "markdown",
   "metadata": {},
   "source": [
    "### Explore and analyze neighborhoods in Toronto\n",
    "First, we declare the foursquare credentials\n"
   ]
  },
  {
   "cell_type": "code",
   "execution_count": 6,
   "metadata": {},
   "outputs": [],
   "source": [
    "CLIENT_ID = 'CSB5CUHREMDRX4YDSCQICEVW0VVYSWWZOCGLOKW4NTAYQFG0'\n",
    "CLIENT_SECRET = 'S5PTZPM2UWJ4JWYQVXVIHYWO3EA3HGGABO5FCKUIVMFW1M3A' \n",
    "VERSION = '20180605' # Foursquare API version"
   ]
  },
  {
   "cell_type": "markdown",
   "metadata": {},
   "source": [
    "Then let's define a function to get the venues of the neighborhoods from the foursquare API"
   ]
  },
  {
   "cell_type": "code",
   "execution_count": 7,
   "metadata": {},
   "outputs": [],
   "source": [
    "LIMIT = 100\n",
    "\n",
    "def getNearbyVenues(names, latitudes, longitudes, radius=500):\n",
    "    \n",
    "    venues_list=[]\n",
    "    for name, lat, lng in zip(names, latitudes, longitudes):\n",
    "            \n",
    "        # Create the API request URL\n",
    "        url = 'https://api.foursquare.com/v2/venues/explore?&client_id={}&client_secret={}&v={}&ll={},{}&radius={}&limit={}'.format(\n",
    "            CLIENT_ID, \n",
    "            CLIENT_SECRET, \n",
    "            VERSION, \n",
    "            lat, \n",
    "            lng, \n",
    "            radius, \n",
    "            LIMIT)\n",
    "            \n",
    "        # Make the GET request\n",
    "        results = requests.get(url).json()[\"response\"]['groups'][0]['items']\n",
    "        \n",
    "        # Return only relevant information for each nearby venue\n",
    "        venues_list.append([(\n",
    "            name, \n",
    "            lat, \n",
    "            lng, \n",
    "            v['venue']['name'], \n",
    "            v['venue']['location']['lat'], \n",
    "            v['venue']['location']['lng'],  \n",
    "            v['venue']['categories'][0]['name']) for v in results])            \n",
    "\n",
    "    nearby_venues = pd.DataFrame([item for venue_list in venues_list for item in venue_list])\n",
    "    nearby_venues.columns = ['Neighborhood', \n",
    "                  'Neighborhood Latitude', \n",
    "                  'Neighborhood Longitude', \n",
    "                  'Venue', \n",
    "                  'Venue Latitude', \n",
    "                  'Venue Longitude', \n",
    "                  'Venue Category']\n",
    "    \n",
    "    return(nearby_venues)"
   ]
  },
  {
   "cell_type": "markdown",
   "metadata": {},
   "source": [
    "Then we can get a dataframe containing the venues in the given radius for each neighborhood"
   ]
  },
  {
   "cell_type": "code",
   "execution_count": 8,
   "metadata": {},
   "outputs": [],
   "source": [
    "toronto_venues = getNearbyVenues(names = boroughs_containing_toronto['Neighborhood'],\n",
    "                                   latitudes = boroughs_containing_toronto['Latitude'],\n",
    "                                   longitudes = boroughs_containing_toronto['Longitude'])"
   ]
  },
  {
   "cell_type": "markdown",
   "metadata": {},
   "source": [
    "We need to process the dataset again to prepare it for the clustering algorithm  "
   ]
  },
  {
   "cell_type": "code",
   "execution_count": 9,
   "metadata": {},
   "outputs": [],
   "source": [
    "# Apply one hot encoding\n",
    "toronto_onehot = pd.get_dummies(toronto_venues[['Venue Category']], prefix=\"\", prefix_sep=\"\")\n",
    "\n",
    "# Add neighborhood column back to dataframe\n",
    "toronto_onehot['Neighborhood'] = toronto_venues['Neighborhood'] \n",
    "\n",
    "# Move neighborhood column to the first column\n",
    "fixed_columns = [toronto_onehot.columns[-1]] + list(toronto_onehot.columns[:-1])\n",
    "toronto_onehot = toronto_onehot[fixed_columns]\n",
    "\n",
    "# Group rows by neighborhood and take the mean of the frequency of occurrency of each category\n",
    "toronto_grouped = toronto_onehot.groupby('Neighborhood').mean().reset_index()"
   ]
  },
  {
   "cell_type": "markdown",
   "metadata": {},
   "source": [
    "### Cluster neighborhoods\n",
    "\n",
    "Let's create 8 different clusters based on the similarities of venues"
   ]
  },
  {
   "cell_type": "code",
   "execution_count": 10,
   "metadata": {},
   "outputs": [],
   "source": [
    "# Set number of clusters\n",
    "kclusters = 8\n",
    "\n",
    "toronto_grouped_clustering = toronto_grouped.drop('Neighborhood', 1)\n",
    "\n",
    "# Run k-means clustering\n",
    "kmeans = KMeans(n_clusters=kclusters, random_state=0).fit(toronto_grouped_clustering)"
   ]
  },
  {
   "cell_type": "markdown",
   "metadata": {},
   "source": [
    "Then, we merge the cluster labels with the neighborhood location dataframe, creating the 'toronto_merged' dataframe"
   ]
  },
  {
   "cell_type": "code",
   "execution_count": 11,
   "metadata": {},
   "outputs": [],
   "source": [
    "# Insert labels on the grouped dataframe\n",
    "toronto_grouped.insert(0, 'Cluster Labels', kmeans.labels_)\n",
    "\n",
    "# Join toronto_grouped and boroughs_containing_toronto by the Neighborhoods column\n",
    "toronto_merged = boroughs_containing_toronto.join(toronto_grouped[['Neighborhood','Cluster Labels']].set_index('Neighborhood'), on='Neighborhood')\n",
    "\n",
    "# Drop NAN values in case they exist and convert the labels to int\n",
    "toronto_merged.dropna(inplace = True)\n",
    "toronto_merged['Cluster Labels'] = toronto_merged['Cluster Labels'].astype(int)\n"
   ]
  },
  {
   "cell_type": "markdown",
   "metadata": {},
   "source": [
    "Finally, we can print the map containing the neighborhoods colored by their labels"
   ]
  },
  {
   "cell_type": "code",
   "execution_count": 12,
   "metadata": {},
   "outputs": [
    {
     "output_type": "execute_result",
     "data": {
      "text/plain": "<folium.folium.Map at 0x7fb7bb586ef0>",
      "text/html": "<div style=\"width:100%;\"><div style=\"position:relative;width:100%;height:0;padding-bottom:60%;\"><span style=\"color:#565656\">Make this Notebook Trusted to load map: File -> Trust Notebook</span><iframe src=\"about:blank\" style=\"position:absolute;width:100%;height:100%;left:0;top:0;border:none !important;\" data-html=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 onload=\"this.contentDocument.open();this.contentDocument.write(atob(this.getAttribute('data-html')));this.contentDocument.close();\" allowfullscreen webkitallowfullscreen mozallowfullscreen></iframe></div></div>"
     },
     "metadata": {},
     "execution_count": 12
    }
   ],
   "source": [
    "# Get Toronto city coordinates\n",
    "g = geocoder.arcgis('Toronto, Ontario')\n",
    "lat_lng_coords = g.latlng\n",
    "toronto_latitude = lat_lng_coords[0]\n",
    "toronto_longitude = lat_lng_coords[1]\n",
    "\n",
    "# Create map centered in Toronto city\n",
    "map_clusters = folium.Map(location=[toronto_latitude, toronto_longitude], zoom_start=12)\n",
    "\n",
    "# Set color scheme for the clusters\n",
    "x = np.arange(kclusters)\n",
    "ys = [i + x + (i*x)**2 for i in range(kclusters)]\n",
    "colors_array = cm.rainbow(np.linspace(0, 1, len(ys)))\n",
    "rainbow = [colors.rgb2hex(i) for i in colors_array]\n",
    "\n",
    "# Add markers to the map\n",
    "markers_colors = []\n",
    "for lat, lon, poi, cluster in zip(toronto_merged['Latitude'], toronto_merged['Longitude'], toronto_merged['Neighborhood'], toronto_merged['Cluster Labels']):\n",
    "    label = folium.Popup(str(poi) + ' Cluster ' + str(cluster), parse_html=True)\n",
    "    folium.CircleMarker(\n",
    "        [lat, lon],\n",
    "        radius=5,\n",
    "        popup=label,\n",
    "        color=rainbow[cluster-1],\n",
    "        fill=True,\n",
    "        fill_color=rainbow[cluster-1],\n",
    "        fill_opacity=0.7).add_to(map_clusters)\n",
    "       \n",
    "map_clusters"
   ]
  },
  {
   "cell_type": "markdown",
   "metadata": {},
   "source": [
    "We can notice that a lot of neighborhoods in the boroughs that contain the word \"Toronto\" are very much alike, as almost all of them are grouped in the cluster with label 0"
   ]
  }
 ],
 "metadata": {
  "language_info": {
   "codemirror_mode": {
    "name": "ipython",
    "version": 3
   },
   "file_extension": ".py",
   "mimetype": "text/x-python",
   "name": "python",
   "nbconvert_exporter": "python",
   "pygments_lexer": "ipython3",
   "version": "3.6.2-final"
  },
  "orig_nbformat": 2,
  "kernelspec": {
   "name": "python36264bit9ba4f3a1dc8442db94d5a971bf261fe4",
   "display_name": "Python 3.6.2 64-bit"
  }
 },
 "nbformat": 4,
 "nbformat_minor": 2
}