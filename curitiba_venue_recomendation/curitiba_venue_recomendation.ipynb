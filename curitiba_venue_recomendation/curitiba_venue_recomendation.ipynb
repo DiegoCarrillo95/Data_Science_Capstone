{
 "cells": [
  {
   "cell_type": "markdown",
   "metadata": {},
   "source": [
    "# Applied Data Science Capstone Project\n",
    "## Final Project of [IBM's Data Science Professional Certificate Course] (https://www.coursera.org/professional-certificates/ibm-data-science)\n",
    "## Part 2:\n",
    "## A Restaurant recommendation system to the city of Curitiba, Brazil"
   ]
  },
  {
   "cell_type": "markdown",
   "metadata": {},
   "source": [
    "First, let's import all the libraries needed"
   ]
  },
  {
   "cell_type": "code",
   "execution_count": 1,
   "metadata": {},
   "outputs": [],
   "source": [
    "import pandas as pd\n",
    "import numpy as np \n",
    "import geocoder\n",
    "import requests \n",
    "import folium\n",
    "\n",
    "from pandas.io.html import read_html\n",
    "from sklearn import preprocessing\n"
   ]
  },
  {
   "cell_type": "markdown",
   "metadata": {},
   "source": [
    "## Data aquisition\n",
    "\n",
    "Now, we define a function to parse the data we are going to collect"
   ]
  },
  {
   "cell_type": "code",
   "execution_count": 2,
   "metadata": {},
   "outputs": [],
   "source": [
    "def getBoroughDataframe(wikitable):\n",
    "    tableTitle = wikitable.iloc[0,0]\n",
    "    boroughName = tableTitle[(tableTitle.index(\"- \") + 2):tableTitle.index(\"(IBGE-\")]\n",
    "\n",
    "    if 'Regional' in boroughName:\n",
    "        boroughName = boroughName.replace('Regional ','')\n",
    "\n",
    "    df = wikitable.drop([0,1,2]).reset_index(drop = True)\n",
    "    \n",
    "    df['Borough'] = boroughName\n",
    "    df['Neighborhood'] = df[0]\n",
    "    df['Area'] = pd.to_numeric(df[1], downcast=\"float\")/100 \n",
    "\n",
    "    return df[['Borough', 'Neighborhood', 'Area']]"
   ]
  },
  {
   "cell_type": "markdown",
   "metadata": {},
   "source": [
    "Then we can create a dataset of all the Curitiba's Neighborhoods, also with their respective borough (region) and Area in Km² "
   ]
  },
  {
   "cell_type": "code",
   "execution_count": 3,
   "metadata": {},
   "outputs": [],
   "source": [
    "# Get a list of wiki tables from the following link \n",
    "page = 'https://pt.wikipedia.org/wiki/Lista_de_bairros_de_Curitiba'\n",
    "wikitables = read_html(page,  attrs = {\"class\":\"wikitable\"})\n",
    "\n",
    "# Create empty dataframe to hold all sub dataframes\n",
    "df_curitiba = pd.DataFrame(columns = ['Borough', 'Neighborhood', 'Area'])\n",
    "\n",
    "# For each borough, get a sub dataframe of its neighborhoods and concat it to the main dataframe\n",
    "for table in wikitables:\n",
    "    df_curitiba = pd.concat([df_curitiba, getBoroughDataframe(table)])\n",
    "\n",
    "# Remove any duplicate value \n",
    "df_curitiba.drop_duplicates(subset = 'Neighborhood', keep = 'last', inplace = True)"
   ]
  },
  {
   "cell_type": "markdown",
   "metadata": {},
   "source": [
    "Now, lets use a geocoder to get the lagitude and longitude to each neighborhood and append this information to the dataset"
   ]
  },
  {
   "cell_type": "code",
   "execution_count": 4,
   "metadata": {},
   "outputs": [
    {
     "output_type": "execute_result",
     "data": {
      "text/plain": "        Borough   Neighborhood       Area  Latitude  Longitude\n0  Bairro Novo       Ganchinho  11.200000 -25.57523  -49.25502\n1  Bairro Novo   Sitio Cercado  11.120000 -25.54155  -49.26651\n2  Bairro Novo          Umbará  22.469999 -25.58153  -49.28313\n0    Boa Vista       Abranches   4.320000 -25.37028  -49.27007\n1    Boa Vista           Atuba   4.270000 -25.43333  -49.23333\n2    Boa Vista       Bacacheri   6.980000 -25.39847  -49.23038\n3    Boa Vista     Bairro Alto   7.020000 -25.41102  -49.20442\n4    Boa Vista     Barreirinha   3.730000 -25.37337  -49.25943\n5    Boa Vista       Boa Vista   5.140000 -25.38704  -49.24761\n6    Boa Vista       Cachoeira   3.070000 -25.35376  -49.26428",
      "text/html": "<div>\n<style scoped>\n    .dataframe tbody tr th:only-of-type {\n        vertical-align: middle;\n    }\n\n    .dataframe tbody tr th {\n        vertical-align: top;\n    }\n\n    .dataframe thead th {\n        text-align: right;\n    }\n</style>\n<table border=\"1\" class=\"dataframe\">\n  <thead>\n    <tr style=\"text-align: right;\">\n      <th></th>\n      <th>Borough</th>\n      <th>Neighborhood</th>\n      <th>Area</th>\n      <th>Latitude</th>\n      <th>Longitude</th>\n    </tr>\n  </thead>\n  <tbody>\n    <tr>\n      <th>0</th>\n      <td>Bairro Novo</td>\n      <td>Ganchinho</td>\n      <td>11.200000</td>\n      <td>-25.57523</td>\n      <td>-49.25502</td>\n    </tr>\n    <tr>\n      <th>1</th>\n      <td>Bairro Novo</td>\n      <td>Sitio Cercado</td>\n      <td>11.120000</td>\n      <td>-25.54155</td>\n      <td>-49.26651</td>\n    </tr>\n    <tr>\n      <th>2</th>\n      <td>Bairro Novo</td>\n      <td>Umbará</td>\n      <td>22.469999</td>\n      <td>-25.58153</td>\n      <td>-49.28313</td>\n    </tr>\n    <tr>\n      <th>0</th>\n      <td>Boa Vista</td>\n      <td>Abranches</td>\n      <td>4.320000</td>\n      <td>-25.37028</td>\n      <td>-49.27007</td>\n    </tr>\n    <tr>\n      <th>1</th>\n      <td>Boa Vista</td>\n      <td>Atuba</td>\n      <td>4.270000</td>\n      <td>-25.43333</td>\n      <td>-49.23333</td>\n    </tr>\n    <tr>\n      <th>2</th>\n      <td>Boa Vista</td>\n      <td>Bacacheri</td>\n      <td>6.980000</td>\n      <td>-25.39847</td>\n      <td>-49.23038</td>\n    </tr>\n    <tr>\n      <th>3</th>\n      <td>Boa Vista</td>\n      <td>Bairro Alto</td>\n      <td>7.020000</td>\n      <td>-25.41102</td>\n      <td>-49.20442</td>\n    </tr>\n    <tr>\n      <th>4</th>\n      <td>Boa Vista</td>\n      <td>Barreirinha</td>\n      <td>3.730000</td>\n      <td>-25.37337</td>\n      <td>-49.25943</td>\n    </tr>\n    <tr>\n      <th>5</th>\n      <td>Boa Vista</td>\n      <td>Boa Vista</td>\n      <td>5.140000</td>\n      <td>-25.38704</td>\n      <td>-49.24761</td>\n    </tr>\n    <tr>\n      <th>6</th>\n      <td>Boa Vista</td>\n      <td>Cachoeira</td>\n      <td>3.070000</td>\n      <td>-25.35376</td>\n      <td>-49.26428</td>\n    </tr>\n  </tbody>\n</table>\n</div>"
     },
     "metadata": {},
     "execution_count": 4
    }
   ],
   "source": [
    "latitude = []\n",
    "longitude = []\n",
    "\n",
    "# For each neighborhood, find its coordinates and append it to the latitude and longitude lists\n",
    "for neighborhood in df_curitiba['Neighborhood']:\n",
    "    lat_lng_coords = None\n",
    "\n",
    "    while(lat_lng_coords is None):\n",
    "        g = geocoder.arcgis('{}, Curitiba, Brasil'.format(neighborhood))\n",
    "        lat_lng_coords = g.latlng\n",
    "\n",
    "    latitude.append(lat_lng_coords[0])\n",
    "    longitude.append(lat_lng_coords[1])\n",
    "\n",
    "# Create new columns with the latitude and longitude lists\n",
    "df_curitiba['Latitude'] = latitude\n",
    "df_curitiba['Longitude'] = longitude\n",
    "\n",
    "df_curitiba.reset_index(drop = True)\n",
    "\n",
    "# Print the dataframe \n",
    "df_curitiba.head(10)"
   ]
  },
  {
   "cell_type": "markdown",
   "metadata": {},
   "source": [
    "Now, it is time to create a function to collect the venues list for each neighborhood, using the foursquare API. Update the client's ID and secret, since those presented here are not valid anymore :) "
   ]
  },
  {
   "cell_type": "code",
   "execution_count": 5,
   "metadata": {},
   "outputs": [],
   "source": [
    "CLIENT_ID = 'IPUNF3UYRYA0XSGB4GLQP4AXLBZOFRFR2SMHDJMOLG25AV2L'\n",
    "CLIENT_SECRET = 'S23LIPCBN2PZWFVZ3H5S5W1FO3OMOG2X2OVEF2QFHAG4XN1S' \n",
    "VERSION = '20180605' # Foursquare API version\n",
    "\n",
    "def getNearbyVenues(names, latitudes, longitudes, radius):\n",
    "    \n",
    "    venues_list=[]\n",
    "\n",
    "    for name, lat, lng, rad in zip(names, latitudes, longitudes, radius):\n",
    "\n",
    "        for price in range(1,5):  \n",
    "            # Create the API request URL\n",
    "            url = 'https://api.foursquare.com/v2/venues/explore?&client_id={}&client_secret={}&v={}&ll={},{}&radius={}&price={}&section=food'.format(\n",
    "                CLIENT_ID, \n",
    "                CLIENT_SECRET, \n",
    "                VERSION, \n",
    "                lat, \n",
    "                lng, \n",
    "                rad, \n",
    "                price)\n",
    "            \n",
    "            try:\n",
    "                # Make the GET request\n",
    "                results = requests.get(url).json()[\"response\"]['groups'][0]['items']\n",
    "                \n",
    "                # Return only relevant information for each nearby venue\n",
    "                venues_list.append([(\n",
    "                    name, \n",
    "                    v['venue']['name'], \n",
    "                    v['venue']['categories'][0]['name'],\n",
    "                    price) for v in results])  \n",
    "            except: \n",
    "                print('Error fecthing foursquare data for the neighborhood', name)    \n",
    "\n",
    "    nearby_venues = pd.DataFrame([item for venue_list in venues_list for item in venue_list])\n",
    "    nearby_venues.columns = ['Neighborhood', \n",
    "                  'Venue', \n",
    "                  'Venue Category',\n",
    "                  'Price']\n",
    "    \n",
    "    return(nearby_venues)"
   ]
  },
  {
   "cell_type": "markdown",
   "metadata": {},
   "source": [
    "Let's apply our funtion to each neighborhood and get the complete list of venues in the city"
   ]
  },
  {
   "cell_type": "code",
   "execution_count": 6,
   "metadata": {
    "tags": [
     "outputPrepend"
    ]
   },
   "outputs": [
    {
     "output_type": "execute_result",
     "data": {
      "text/plain": "    Neighborhood                                      Venue  \\\n0      Ganchinho  panificadora e confeitaria tortas da vovó   \n1      Ganchinho                 Burgueira Grill Food Truck   \n2      Ganchinho                       Big Pao Panificadora   \n3      Ganchinho                            Burgueria Grill   \n4      Ganchinho                           Bistrô Lago Azul   \n5      Ganchinho                  Frigorífico Família Costa   \n6      Ganchinho                        Defumados Ganchinho   \n7  Sitio Cercado            Hamburgueria Mothafocka Gourmet   \n8  Sitio Cercado          Dina Pizza Expressa (Bairro Novo)   \n9  Sitio Cercado                        Niltinho Espetinhos   \n\n         Venue Category  Price  \n0                Bakery      1  \n1          Burger Joint      1  \n2                Bakery      1  \n3          Burger Joint      1  \n4  Brazilian Restaurant      2  \n5            Steakhouse      4  \n6            Steakhouse      4  \n7          Burger Joint      1  \n8           Pizza Place      1  \n9  Fast Food Restaurant      1  ",
      "text/html": "<div>\n<style scoped>\n    .dataframe tbody tr th:only-of-type {\n        vertical-align: middle;\n    }\n\n    .dataframe tbody tr th {\n        vertical-align: top;\n    }\n\n    .dataframe thead th {\n        text-align: right;\n    }\n</style>\n<table border=\"1\" class=\"dataframe\">\n  <thead>\n    <tr style=\"text-align: right;\">\n      <th></th>\n      <th>Neighborhood</th>\n      <th>Venue</th>\n      <th>Venue Category</th>\n      <th>Price</th>\n    </tr>\n  </thead>\n  <tbody>\n    <tr>\n      <th>0</th>\n      <td>Ganchinho</td>\n      <td>panificadora e confeitaria tortas da vovó</td>\n      <td>Bakery</td>\n      <td>1</td>\n    </tr>\n    <tr>\n      <th>1</th>\n      <td>Ganchinho</td>\n      <td>Burgueira Grill Food Truck</td>\n      <td>Burger Joint</td>\n      <td>1</td>\n    </tr>\n    <tr>\n      <th>2</th>\n      <td>Ganchinho</td>\n      <td>Big Pao Panificadora</td>\n      <td>Bakery</td>\n      <td>1</td>\n    </tr>\n    <tr>\n      <th>3</th>\n      <td>Ganchinho</td>\n      <td>Burgueria Grill</td>\n      <td>Burger Joint</td>\n      <td>1</td>\n    </tr>\n    <tr>\n      <th>4</th>\n      <td>Ganchinho</td>\n      <td>Bistrô Lago Azul</td>\n      <td>Brazilian Restaurant</td>\n      <td>2</td>\n    </tr>\n    <tr>\n      <th>5</th>\n      <td>Ganchinho</td>\n      <td>Frigorífico Família Costa</td>\n      <td>Steakhouse</td>\n      <td>4</td>\n    </tr>\n    <tr>\n      <th>6</th>\n      <td>Ganchinho</td>\n      <td>Defumados Ganchinho</td>\n      <td>Steakhouse</td>\n      <td>4</td>\n    </tr>\n    <tr>\n      <th>7</th>\n      <td>Sitio Cercado</td>\n      <td>Hamburgueria Mothafocka Gourmet</td>\n      <td>Burger Joint</td>\n      <td>1</td>\n    </tr>\n    <tr>\n      <th>8</th>\n      <td>Sitio Cercado</td>\n      <td>Dina Pizza Expressa (Bairro Novo)</td>\n      <td>Pizza Place</td>\n      <td>1</td>\n    </tr>\n    <tr>\n      <th>9</th>\n      <td>Sitio Cercado</td>\n      <td>Niltinho Espetinhos</td>\n      <td>Fast Food Restaurant</td>\n      <td>1</td>\n    </tr>\n  </tbody>\n</table>\n</div>"
     },
     "metadata": {},
     "execution_count": 6
    }
   ],
   "source": [
    "curitiba_venues = getNearbyVenues(names = df_curitiba['Neighborhood'],\n",
    "                                   latitudes = df_curitiba['Latitude'],\n",
    "                                   longitudes = df_curitiba['Longitude'],\n",
    "                                   radius = np.sqrt(df_curitiba['Area']/(np.pi))*1000)\n",
    "\n",
    "curitiba_venues.head(10)"
   ]
  },
  {
   "cell_type": "markdown",
   "metadata": {},
   "source": [
    "## Pre-processing\n",
    "\n",
    "To use our recommendation system, we need to apply a one hot encoding to get a single value for each possible restaurant category. Then, we group the categories to each neoghborhood. Is it also helpful to normalize the price mean column so we can better understand the values at the end"
   ]
  },
  {
   "cell_type": "code",
   "execution_count": 7,
   "metadata": {},
   "outputs": [
    {
     "output_type": "execute_result",
     "data": {
      "text/plain": "     Neighborhood     Price  Afghan Restaurant  American Restaurant  \\\n0       Abranches  0.453333                0.0             0.000000   \n1             Ahú  0.592593                0.0             0.000000   \n2  Alto Boqueirão  0.375758                0.0             0.036364   \n3  Alto da Glória  0.266667                0.0             0.000000   \n4      Alto da XV  0.448485                0.0             0.000000   \n5           Atuba  0.480392                0.0             0.000000   \n6         Augusta  0.500000                0.0             0.000000   \n7       Bacacheri  0.430769                0.0             0.000000   \n8     Bairro Alto  0.360000                0.0             0.000000   \n9     Barreirinha  0.275862                0.0             0.000000   \n\n   Argentinian Restaurant  Asian Restaurant  BBQ Joint  Bagel Shop    Bakery  \\\n0                0.000000          0.000000   0.040000         0.0  0.200000   \n1                0.000000          0.000000   0.022222         0.0  0.088889   \n2                0.000000          0.018182   0.000000         0.0  0.200000   \n3                0.000000          0.028571   0.028571         0.0  0.085714   \n4                0.018182          0.000000   0.054545         0.0  0.072727   \n5                0.000000          0.000000   0.058824         0.0  0.117647   \n6                0.000000          0.000000   0.000000         0.0  0.062500   \n7                0.000000          0.000000   0.092308         0.0  0.138462   \n8                0.000000          0.000000   0.020000         0.0  0.220000   \n9                0.000000          0.000000   0.034483         0.0  0.275862   \n\n   Brazilian Restaurant  ...  Spanish Restaurant  Steakhouse  \\\n0              0.080000  ...                 0.0    0.120000   \n1              0.111111  ...                 0.0    0.088889   \n2              0.090909  ...                 0.0    0.036364   \n3              0.142857  ...                 0.0    0.000000   \n4              0.127273  ...                 0.0    0.000000   \n5              0.117647  ...                 0.0    0.044118   \n6              0.000000  ...                 0.0    0.000000   \n7              0.153846  ...                 0.0    0.030769   \n8              0.060000  ...                 0.0    0.060000   \n9              0.034483  ...                 0.0    0.068966   \n\n   Sushi Restaurant  Swiss Restaurant  Taco Place  Tapas Restaurant  \\\n0          0.000000          0.000000         0.0               0.0   \n1          0.000000          0.000000         0.0               0.0   \n2          0.000000          0.000000         0.0               0.0   \n3          0.057143          0.000000         0.0               0.0   \n4          0.000000          0.018182         0.0               0.0   \n5          0.000000          0.000000         0.0               0.0   \n6          0.000000          0.000000         0.0               0.0   \n7          0.000000          0.000000         0.0               0.0   \n8          0.000000          0.000000         0.0               0.0   \n9          0.000000          0.000000         0.0               0.0   \n\n   Tapiocaria  Thai Restaurant  Vegetarian / Vegan Restaurant  Wings Joint  \n0        0.00              0.0                       0.000000         0.00  \n1        0.00              0.0                       0.000000         0.00  \n2        0.00              0.0                       0.000000         0.00  \n3        0.00              0.0                       0.000000         0.00  \n4        0.00              0.0                       0.000000         0.00  \n5        0.00              0.0                       0.000000         0.00  \n6        0.00              0.0                       0.000000         0.00  \n7        0.00              0.0                       0.030769         0.00  \n8        0.02              0.0                       0.000000         0.02  \n9        0.00              0.0                       0.000000         0.00  \n\n[10 rows x 67 columns]",
      "text/html": "<div>\n<style scoped>\n    .dataframe tbody tr th:only-of-type {\n        vertical-align: middle;\n    }\n\n    .dataframe tbody tr th {\n        vertical-align: top;\n    }\n\n    .dataframe thead th {\n        text-align: right;\n    }\n</style>\n<table border=\"1\" class=\"dataframe\">\n  <thead>\n    <tr style=\"text-align: right;\">\n      <th></th>\n      <th>Neighborhood</th>\n      <th>Price</th>\n      <th>Afghan Restaurant</th>\n      <th>American Restaurant</th>\n      <th>Argentinian Restaurant</th>\n      <th>Asian Restaurant</th>\n      <th>BBQ Joint</th>\n      <th>Bagel Shop</th>\n      <th>Bakery</th>\n      <th>Brazilian Restaurant</th>\n      <th>...</th>\n      <th>Spanish Restaurant</th>\n      <th>Steakhouse</th>\n      <th>Sushi Restaurant</th>\n      <th>Swiss Restaurant</th>\n      <th>Taco Place</th>\n      <th>Tapas Restaurant</th>\n      <th>Tapiocaria</th>\n      <th>Thai Restaurant</th>\n      <th>Vegetarian / Vegan Restaurant</th>\n      <th>Wings Joint</th>\n    </tr>\n  </thead>\n  <tbody>\n    <tr>\n      <th>0</th>\n      <td>Abranches</td>\n      <td>0.453333</td>\n      <td>0.0</td>\n      <td>0.000000</td>\n      <td>0.000000</td>\n      <td>0.000000</td>\n      <td>0.040000</td>\n      <td>0.0</td>\n      <td>0.200000</td>\n      <td>0.080000</td>\n      <td>...</td>\n      <td>0.0</td>\n      <td>0.120000</td>\n      <td>0.000000</td>\n      <td>0.000000</td>\n      <td>0.0</td>\n      <td>0.0</td>\n      <td>0.00</td>\n      <td>0.0</td>\n      <td>0.000000</td>\n      <td>0.00</td>\n    </tr>\n    <tr>\n      <th>1</th>\n      <td>Ahú</td>\n      <td>0.592593</td>\n      <td>0.0</td>\n      <td>0.000000</td>\n      <td>0.000000</td>\n      <td>0.000000</td>\n      <td>0.022222</td>\n      <td>0.0</td>\n      <td>0.088889</td>\n      <td>0.111111</td>\n      <td>...</td>\n      <td>0.0</td>\n      <td>0.088889</td>\n      <td>0.000000</td>\n      <td>0.000000</td>\n      <td>0.0</td>\n      <td>0.0</td>\n      <td>0.00</td>\n      <td>0.0</td>\n      <td>0.000000</td>\n      <td>0.00</td>\n    </tr>\n    <tr>\n      <th>2</th>\n      <td>Alto Boqueirão</td>\n      <td>0.375758</td>\n      <td>0.0</td>\n      <td>0.036364</td>\n      <td>0.000000</td>\n      <td>0.018182</td>\n      <td>0.000000</td>\n      <td>0.0</td>\n      <td>0.200000</td>\n      <td>0.090909</td>\n      <td>...</td>\n      <td>0.0</td>\n      <td>0.036364</td>\n      <td>0.000000</td>\n      <td>0.000000</td>\n      <td>0.0</td>\n      <td>0.0</td>\n      <td>0.00</td>\n      <td>0.0</td>\n      <td>0.000000</td>\n      <td>0.00</td>\n    </tr>\n    <tr>\n      <th>3</th>\n      <td>Alto da Glória</td>\n      <td>0.266667</td>\n      <td>0.0</td>\n      <td>0.000000</td>\n      <td>0.000000</td>\n      <td>0.028571</td>\n      <td>0.028571</td>\n      <td>0.0</td>\n      <td>0.085714</td>\n      <td>0.142857</td>\n      <td>...</td>\n      <td>0.0</td>\n      <td>0.000000</td>\n      <td>0.057143</td>\n      <td>0.000000</td>\n      <td>0.0</td>\n      <td>0.0</td>\n      <td>0.00</td>\n      <td>0.0</td>\n      <td>0.000000</td>\n      <td>0.00</td>\n    </tr>\n    <tr>\n      <th>4</th>\n      <td>Alto da XV</td>\n      <td>0.448485</td>\n      <td>0.0</td>\n      <td>0.000000</td>\n      <td>0.018182</td>\n      <td>0.000000</td>\n      <td>0.054545</td>\n      <td>0.0</td>\n      <td>0.072727</td>\n      <td>0.127273</td>\n      <td>...</td>\n      <td>0.0</td>\n      <td>0.000000</td>\n      <td>0.000000</td>\n      <td>0.018182</td>\n      <td>0.0</td>\n      <td>0.0</td>\n      <td>0.00</td>\n      <td>0.0</td>\n      <td>0.000000</td>\n      <td>0.00</td>\n    </tr>\n    <tr>\n      <th>5</th>\n      <td>Atuba</td>\n      <td>0.480392</td>\n      <td>0.0</td>\n      <td>0.000000</td>\n      <td>0.000000</td>\n      <td>0.000000</td>\n      <td>0.058824</td>\n      <td>0.0</td>\n      <td>0.117647</td>\n      <td>0.117647</td>\n      <td>...</td>\n      <td>0.0</td>\n      <td>0.044118</td>\n      <td>0.000000</td>\n      <td>0.000000</td>\n      <td>0.0</td>\n      <td>0.0</td>\n      <td>0.00</td>\n      <td>0.0</td>\n      <td>0.000000</td>\n      <td>0.00</td>\n    </tr>\n    <tr>\n      <th>6</th>\n      <td>Augusta</td>\n      <td>0.500000</td>\n      <td>0.0</td>\n      <td>0.000000</td>\n      <td>0.000000</td>\n      <td>0.000000</td>\n      <td>0.000000</td>\n      <td>0.0</td>\n      <td>0.062500</td>\n      <td>0.000000</td>\n      <td>...</td>\n      <td>0.0</td>\n      <td>0.000000</td>\n      <td>0.000000</td>\n      <td>0.000000</td>\n      <td>0.0</td>\n      <td>0.0</td>\n      <td>0.00</td>\n      <td>0.0</td>\n      <td>0.000000</td>\n      <td>0.00</td>\n    </tr>\n    <tr>\n      <th>7</th>\n      <td>Bacacheri</td>\n      <td>0.430769</td>\n      <td>0.0</td>\n      <td>0.000000</td>\n      <td>0.000000</td>\n      <td>0.000000</td>\n      <td>0.092308</td>\n      <td>0.0</td>\n      <td>0.138462</td>\n      <td>0.153846</td>\n      <td>...</td>\n      <td>0.0</td>\n      <td>0.030769</td>\n      <td>0.000000</td>\n      <td>0.000000</td>\n      <td>0.0</td>\n      <td>0.0</td>\n      <td>0.00</td>\n      <td>0.0</td>\n      <td>0.030769</td>\n      <td>0.00</td>\n    </tr>\n    <tr>\n      <th>8</th>\n      <td>Bairro Alto</td>\n      <td>0.360000</td>\n      <td>0.0</td>\n      <td>0.000000</td>\n      <td>0.000000</td>\n      <td>0.000000</td>\n      <td>0.020000</td>\n      <td>0.0</td>\n      <td>0.220000</td>\n      <td>0.060000</td>\n      <td>...</td>\n      <td>0.0</td>\n      <td>0.060000</td>\n      <td>0.000000</td>\n      <td>0.000000</td>\n      <td>0.0</td>\n      <td>0.0</td>\n      <td>0.02</td>\n      <td>0.0</td>\n      <td>0.000000</td>\n      <td>0.02</td>\n    </tr>\n    <tr>\n      <th>9</th>\n      <td>Barreirinha</td>\n      <td>0.275862</td>\n      <td>0.0</td>\n      <td>0.000000</td>\n      <td>0.000000</td>\n      <td>0.000000</td>\n      <td>0.034483</td>\n      <td>0.0</td>\n      <td>0.275862</td>\n      <td>0.034483</td>\n      <td>...</td>\n      <td>0.0</td>\n      <td>0.068966</td>\n      <td>0.000000</td>\n      <td>0.000000</td>\n      <td>0.0</td>\n      <td>0.0</td>\n      <td>0.00</td>\n      <td>0.0</td>\n      <td>0.000000</td>\n      <td>0.00</td>\n    </tr>\n  </tbody>\n</table>\n<p>10 rows × 67 columns</p>\n</div>"
     },
     "metadata": {},
     "execution_count": 7
    }
   ],
   "source": [
    "# Apply one hot encoding\n",
    "curitiba_onehot = pd.get_dummies(curitiba_venues[['Venue Category']], prefix=\"\", prefix_sep=\"\")\n",
    "\n",
    "# Add neighborhood and price columns back to dataframe\n",
    "curitiba_onehot['Neighborhood'] = curitiba_venues['Neighborhood'] \n",
    "curitiba_onehot['Price'] = curitiba_venues['Price'] \n",
    "\n",
    "# Move neighborhood column to the first column\n",
    "fixed_columns = [curitiba_onehot.columns[-1]] + list(curitiba_onehot.columns[:-1])\n",
    "curitiba_onehot = curitiba_onehot[fixed_columns]\n",
    "\n",
    "# Group rows by neighborhood and take the mean of the frequency of occurrency of each category\n",
    "curitiba_grouped = curitiba_onehot.groupby('Neighborhood').mean().reset_index()\n",
    "\n",
    "# Normalize the price column\n",
    "prices = curitiba_grouped[['Price']].values\n",
    "min_max_scaler = preprocessing.MinMaxScaler()\n",
    "prices_norm = min_max_scaler.fit_transform(prices)\n",
    "\n",
    "curitiba_grouped['Price'] = prices_norm\n",
    "\n",
    "# Print the dataframe\n",
    "curitiba_grouped.head(10)"
   ]
  },
  {
   "cell_type": "markdown",
   "metadata": {},
   "source": [
    "### Getting the results\n",
    "\n",
    "Finally, we create a function that applies a recommendation algorithm to our data, based on an input list of the desired restaurant categories, and returns an ordered list of the neighborhoods that get the higher grades "
   ]
  },
  {
   "cell_type": "code",
   "execution_count": 8,
   "metadata": {},
   "outputs": [],
   "source": [
    "def createRecommendationList(restaurant_list):\n",
    "\n",
    "    # Drop all data that is not related to restaurant categories\n",
    "    curitiba_categories = curitiba_grouped.drop(['Neighborhood', 'Price'],1)\n",
    "    columns = list(curitiba_categories.columns)\n",
    "\n",
    "    matrix = []\n",
    "\n",
    "    # Create a binary array where each restaurant category is represented by an 1 if it is contained at the input list or 0 otherwise \n",
    "    for restaurant_category in columns:\n",
    "        isRestaurantContained = False\n",
    "        for restaurant in restaurant_list:\n",
    "            if (restaurant_category == restaurant):\n",
    "                isRestaurantContained = True\n",
    "                break\n",
    "\n",
    "        if(isRestaurantContained):\n",
    "            matrix.append(1)\n",
    "        else:\n",
    "            matrix.append(0)\n",
    "\n",
    "    # Multiply the curitiba categories by the binary matrix, appling the recommendation system algorithm\n",
    "    result = curitiba_categories.to_numpy().dot(matrix)\n",
    "\n",
    "    # Create a new dataset with the results of the recommendation an join it with the neighborhood data\n",
    "    df_recommendation = pd.DataFrame(data=result, columns = ['Recomendation grade'])\n",
    "    df_recommendation = df_recommendation.join(curitiba_grouped[['Neighborhood','Price']]).set_index('Neighborhood').sort_values(by = 'Recomendation grade', ascending = False)\n",
    "\n",
    "    return df_recommendation"
   ]
  },
  {
   "cell_type": "markdown",
   "metadata": {},
   "source": [
    "Let's test our function by finding the neighborhoods in which we are most likely to find vegetarian/vegan buffet restaurants. Notice that the function also returns a \"Price\" column, where the value 0.0 correspond to the cheapest restaurants, and 1.0 to the most expensive ones."
   ]
  },
  {
   "cell_type": "code",
   "execution_count": 9,
   "metadata": {},
   "outputs": [
    {
     "output_type": "execute_result",
     "data": {
      "text/plain": "                  Recomendation grade     Price\nNeighborhood                                   \nVista Alegre                 0.071429  0.380952\nSeminário                    0.065217  0.449275\nJardim Botânico              0.040000  0.386667\nBigorrilho                   0.037037  0.617284\nHugo Lange                   0.034483  0.597701\nBacacheri                    0.030769  0.430769\nCabral                       0.030303  0.424242\nMercês                       0.029412  0.460784\nCentro                       0.022222  0.711111\nAhú                          0.022222  0.592593\nBom Retiro                   0.021277  0.539007\nSão Francisco                0.020408  0.367347\nPrado Velho                  0.017241  0.379310\nJuvevê                       0.016129  0.440860\nAtuba                        0.014706  0.480392\nÁgua Verde                   0.010638  0.723404\nOrleans                      0.000000  0.403509\nParolin                      0.000000  0.425926\nSanta Felicidade             0.000000  0.497354\nPilarzinho                   0.000000  0.211382",
      "text/html": "<div>\n<style scoped>\n    .dataframe tbody tr th:only-of-type {\n        vertical-align: middle;\n    }\n\n    .dataframe tbody tr th {\n        vertical-align: top;\n    }\n\n    .dataframe thead th {\n        text-align: right;\n    }\n</style>\n<table border=\"1\" class=\"dataframe\">\n  <thead>\n    <tr style=\"text-align: right;\">\n      <th></th>\n      <th>Recomendation grade</th>\n      <th>Price</th>\n    </tr>\n    <tr>\n      <th>Neighborhood</th>\n      <th></th>\n      <th></th>\n    </tr>\n  </thead>\n  <tbody>\n    <tr>\n      <th>Vista Alegre</th>\n      <td>0.071429</td>\n      <td>0.380952</td>\n    </tr>\n    <tr>\n      <th>Seminário</th>\n      <td>0.065217</td>\n      <td>0.449275</td>\n    </tr>\n    <tr>\n      <th>Jardim Botânico</th>\n      <td>0.040000</td>\n      <td>0.386667</td>\n    </tr>\n    <tr>\n      <th>Bigorrilho</th>\n      <td>0.037037</td>\n      <td>0.617284</td>\n    </tr>\n    <tr>\n      <th>Hugo Lange</th>\n      <td>0.034483</td>\n      <td>0.597701</td>\n    </tr>\n    <tr>\n      <th>Bacacheri</th>\n      <td>0.030769</td>\n      <td>0.430769</td>\n    </tr>\n    <tr>\n      <th>Cabral</th>\n      <td>0.030303</td>\n      <td>0.424242</td>\n    </tr>\n    <tr>\n      <th>Mercês</th>\n      <td>0.029412</td>\n      <td>0.460784</td>\n    </tr>\n    <tr>\n      <th>Centro</th>\n      <td>0.022222</td>\n      <td>0.711111</td>\n    </tr>\n    <tr>\n      <th>Ahú</th>\n      <td>0.022222</td>\n      <td>0.592593</td>\n    </tr>\n    <tr>\n      <th>Bom Retiro</th>\n      <td>0.021277</td>\n      <td>0.539007</td>\n    </tr>\n    <tr>\n      <th>São Francisco</th>\n      <td>0.020408</td>\n      <td>0.367347</td>\n    </tr>\n    <tr>\n      <th>Prado Velho</th>\n      <td>0.017241</td>\n      <td>0.379310</td>\n    </tr>\n    <tr>\n      <th>Juvevê</th>\n      <td>0.016129</td>\n      <td>0.440860</td>\n    </tr>\n    <tr>\n      <th>Atuba</th>\n      <td>0.014706</td>\n      <td>0.480392</td>\n    </tr>\n    <tr>\n      <th>Água Verde</th>\n      <td>0.010638</td>\n      <td>0.723404</td>\n    </tr>\n    <tr>\n      <th>Orleans</th>\n      <td>0.000000</td>\n      <td>0.403509</td>\n    </tr>\n    <tr>\n      <th>Parolin</th>\n      <td>0.000000</td>\n      <td>0.425926</td>\n    </tr>\n    <tr>\n      <th>Santa Felicidade</th>\n      <td>0.000000</td>\n      <td>0.497354</td>\n    </tr>\n    <tr>\n      <th>Pilarzinho</th>\n      <td>0.000000</td>\n      <td>0.211382</td>\n    </tr>\n  </tbody>\n</table>\n</div>"
     },
     "metadata": {},
     "execution_count": 9
    }
   ],
   "source": [
    "restaurant_list = ['Buffet', 'Vegetarian / Vegan Restaurant']\n",
    "\n",
    "recommendation = createRecommendationList(restaurant_list)\n",
    "\n",
    "recommendation.head(20)"
   ]
  },
  {
   "cell_type": "markdown",
   "metadata": {},
   "source": [
    "Finally, we create a map to visualize the top 10 neighborhoods for vegetarian/vegan buffets in Curitiba"
   ]
  },
  {
   "cell_type": "code",
   "execution_count": 10,
   "metadata": {},
   "outputs": [
    {
     "output_type": "execute_result",
     "data": {
      "text/plain": "<folium.folium.Map at 0x7f1c1d7c1390>",
      "text/html": "<div style=\"width:100%;\"><div style=\"position:relative;width:100%;height:0;padding-bottom:60%;\"><span style=\"color:#565656\">Make this Notebook Trusted to load map: File -> Trust Notebook</span><iframe src=\"about:blank\" style=\"position:absolute;width:100%;height:100%;left:0;top:0;border:none !important;\" data-html=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 onload=\"this.contentDocument.open();this.contentDocument.write(atob(this.getAttribute('data-html')));this.contentDocument.close();\" allowfullscreen webkitallowfullscreen mozallowfullscreen></iframe></div></div>"
     },
     "metadata": {},
     "execution_count": 10
    }
   ],
   "source": [
    "# Append latitude and longitude, reset index, and get only the top 10 higher ranked neighboors\n",
    "recommendation_lat_lon = recommendation.join(df_curitiba[['Neighborhood','Latitude','Longitude']].set_index('Neighborhood'), on = 'Neighborhood')\n",
    "recommendation_lat_lon = recommendation_lat_lon.reset_index().head(10)\n",
    "\n",
    "# Get Curitiba city coordinates\n",
    "g = geocoder.arcgis('Curitiba, Brazil')\n",
    "lat_lng_coords = g.latlng\n",
    "curitiba_latitude = lat_lng_coords[0]\n",
    "curitiba_longitude = lat_lng_coords[1]\n",
    "\n",
    "# Create map centered in Curitiba city\n",
    "map = folium.Map(location=[curitiba_latitude, curitiba_longitude], zoom_start=12)\n",
    "\n",
    "# Add markers to the map\n",
    "for lat, lon, poi, grade, price in zip(recommendation_lat_lon['Latitude'], recommendation_lat_lon['Longitude'], recommendation_lat_lon['Neighborhood'], recommendation_lat_lon['Recomendation grade'], recommendation_lat_lon['Price']):\n",
    "    label = folium.Popup(str(poi) + '\\nGrade: ' + str(grade) + '\\nPrice: ' + str(price), parse_html=True)\n",
    "    folium.CircleMarker(\n",
    "        [lat, lon],\n",
    "        radius=5,\n",
    "        popup=label,\n",
    "        fill=True,\n",
    "        fill_opacity=0.7).add_to(map)\n",
    "       \n",
    "map"
   ]
  },
  {
   "cell_type": "code",
   "execution_count": null,
   "metadata": {},
   "outputs": [],
   "source": []
  }
 ],
 "metadata": {
  "language_info": {
   "codemirror_mode": {
    "name": "ipython",
    "version": 3
   },
   "file_extension": ".py",
   "mimetype": "text/x-python",
   "name": "python",
   "nbconvert_exporter": "python",
   "pygments_lexer": "ipython3",
   "version": "3.6.2-final"
  },
  "orig_nbformat": 2,
  "kernelspec": {
   "name": "python36264bit9ba4f3a1dc8442db94d5a971bf261fe4",
   "display_name": "Python 3.6.2 64-bit"
  }
 },
 "nbformat": 4,
 "nbformat_minor": 2
}