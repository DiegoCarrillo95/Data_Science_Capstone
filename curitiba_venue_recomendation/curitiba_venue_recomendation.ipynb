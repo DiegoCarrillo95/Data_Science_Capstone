{
 "cells": [
  {
   "cell_type": "markdown",
   "metadata": {},
   "source": [
    "# Applied Data Science Capstone Project\n",
    "## Final Project of [IBM's Data Science Professional Certificate Course] (https://www.coursera.org/professional-certificates/ibm-data-science)\n",
    "## Part 2:\n",
    "## Recomending neighborhoods in Curitiba (Brasil) based on venues' data "
   ]
  },
  {
   "cell_type": "markdown",
   "metadata": {},
   "source": [
    "First, let's import all the libraries needed"
   ]
  },
  {
   "cell_type": "code",
   "execution_count": 1,
   "metadata": {},
   "outputs": [],
   "source": [
    "import pandas as pd\n",
    "import numpy as np \n",
    "import geocoder\n",
    "import requests \n",
    "import folium\n",
    "\n",
    "import matplotlib.cm as cm\n",
    "import matplotlib.colors as colors\n",
    "\n",
    "from pandas.io.html import read_html\n",
    "from sklearn.cluster import KMeans"
   ]
  },
  {
   "cell_type": "code",
   "execution_count": 2,
   "metadata": {},
   "outputs": [],
   "source": [
    "def getBoroughDataframe(wikitable):\n",
    "    tableTitle = wikitable.iloc[0,0]\n",
    "    boroughName = tableTitle[(tableTitle.index(\"- \") + 2):tableTitle.index(\"(IBGE-\")]\n",
    "\n",
    "    if 'Regional' in boroughName:\n",
    "        boroughName = boroughName.replace('Regional ','')\n",
    "\n",
    "    df = wikitable.drop([0,1,2]).reset_index(drop = True)\n",
    "    \n",
    "    df['Borough'] = boroughName\n",
    "    df['Neighborhood'] = df[0]\n",
    "    df['Area'] = pd.to_numeric(df[1], downcast=\"float\")/100 \n",
    "\n",
    "    return df[['Borough', 'Neighborhood', 'Area']]"
   ]
  },
  {
   "cell_type": "code",
   "execution_count": 3,
   "metadata": {},
   "outputs": [
    {
     "output_type": "execute_result",
     "data": {
      "text/plain": "              Borough   Neighborhood       Area\n0        Bairro Novo       Ganchinho  11.200000\n1        Bairro Novo   Sitio Cercado  11.120000\n2        Bairro Novo          Umbará  22.469999\n3          Boa Vista       Abranches   4.320000\n4          Boa Vista           Atuba   4.270000\n..                ...            ...        ...\n70  Santa Felicidade    Santo Inácio   2.720000\n71  Santa Felicidade        São Braz   5.010000\n72  Santa Felicidade        São João   3.030000\n73  Santa Felicidade       Seminário   2.130000\n74  Santa Felicidade    Vista Alegre   3.690000\n\n[75 rows x 3 columns]",
      "text/html": "<div>\n<style scoped>\n    .dataframe tbody tr th:only-of-type {\n        vertical-align: middle;\n    }\n\n    .dataframe tbody tr th {\n        vertical-align: top;\n    }\n\n    .dataframe thead th {\n        text-align: right;\n    }\n</style>\n<table border=\"1\" class=\"dataframe\">\n  <thead>\n    <tr style=\"text-align: right;\">\n      <th></th>\n      <th>Borough</th>\n      <th>Neighborhood</th>\n      <th>Area</th>\n    </tr>\n  </thead>\n  <tbody>\n    <tr>\n      <th>0</th>\n      <td>Bairro Novo</td>\n      <td>Ganchinho</td>\n      <td>11.200000</td>\n    </tr>\n    <tr>\n      <th>1</th>\n      <td>Bairro Novo</td>\n      <td>Sitio Cercado</td>\n      <td>11.120000</td>\n    </tr>\n    <tr>\n      <th>2</th>\n      <td>Bairro Novo</td>\n      <td>Umbará</td>\n      <td>22.469999</td>\n    </tr>\n    <tr>\n      <th>3</th>\n      <td>Boa Vista</td>\n      <td>Abranches</td>\n      <td>4.320000</td>\n    </tr>\n    <tr>\n      <th>4</th>\n      <td>Boa Vista</td>\n      <td>Atuba</td>\n      <td>4.270000</td>\n    </tr>\n    <tr>\n      <th>...</th>\n      <td>...</td>\n      <td>...</td>\n      <td>...</td>\n    </tr>\n    <tr>\n      <th>70</th>\n      <td>Santa Felicidade</td>\n      <td>Santo Inácio</td>\n      <td>2.720000</td>\n    </tr>\n    <tr>\n      <th>71</th>\n      <td>Santa Felicidade</td>\n      <td>São Braz</td>\n      <td>5.010000</td>\n    </tr>\n    <tr>\n      <th>72</th>\n      <td>Santa Felicidade</td>\n      <td>São João</td>\n      <td>3.030000</td>\n    </tr>\n    <tr>\n      <th>73</th>\n      <td>Santa Felicidade</td>\n      <td>Seminário</td>\n      <td>2.130000</td>\n    </tr>\n    <tr>\n      <th>74</th>\n      <td>Santa Felicidade</td>\n      <td>Vista Alegre</td>\n      <td>3.690000</td>\n    </tr>\n  </tbody>\n</table>\n<p>75 rows × 3 columns</p>\n</div>"
     },
     "metadata": {},
     "execution_count": 3
    }
   ],
   "source": [
    "# Get a list of wiki tables from the following link \n",
    "page = 'https://pt.wikipedia.org/wiki/Lista_de_bairros_de_Curitiba'\n",
    "wikitables = read_html(page,  attrs = {\"class\":\"wikitable\"})\n",
    "\n",
    "# Create empty dataframe to hold all sub dataframes\n",
    "df_curitiba = pd.DataFrame(columns = ['Borough', 'Neighborhood', 'Area'])\n",
    "\n",
    "# For each borough, get a sub dataframe of its neighborhoods and concat it to the main dataframe\n",
    "for table in wikitables:\n",
    "    df_curitiba = pd.concat([df_curitiba, getBoroughDataframe(table)])\n",
    "\n",
    "# Remove any duplicate value \n",
    "df_curitiba.drop_duplicates(subset = 'Neighborhood', keep = 'last', inplace = True)"
   ]
  },
  {
   "cell_type": "code",
   "execution_count": 4,
   "metadata": {},
   "outputs": [
    {
     "output_type": "execute_result",
     "data": {
      "text/plain": "         Borough    Neighborhood       Area  Latitude  Longitude\n0   Bairro Novo        Ganchinho  11.200000 -25.57523  -49.25502\n1   Bairro Novo    Sitio Cercado  11.120000 -25.54155  -49.26651\n2   Bairro Novo           Umbará  22.469999 -25.58153  -49.28313\n0     Boa Vista        Abranches   4.320000 -25.37028  -49.27007\n1     Boa Vista            Atuba   4.270000 -25.43333  -49.23333\n2     Boa Vista        Bacacheri   6.980000 -25.39847  -49.23038\n3     Boa Vista      Bairro Alto   7.020000 -25.41102  -49.20442\n4     Boa Vista      Barreirinha   3.730000 -25.37337  -49.25943\n5     Boa Vista        Boa Vista   5.140000 -25.38704  -49.24761\n6     Boa Vista        Cachoeira   3.070000 -25.35376  -49.26428\n7     Boa Vista       Pilarzinho   7.130000 -25.39047  -49.28553\n8     Boa Vista    Santa Cândida  10.330000 -25.36528  -49.23027\n9     Boa Vista     São Lourenço   2.260000 -25.39181  -49.26778\n10    Boa Vista           Taboão   1.720000 -25.37122  -49.28092\n11    Boa Vista           Tarumã   4.170000 -25.43086  -49.22609\n12    Boa Vista           Tingui   2.110000 -25.38577  -49.21993\n0     Boqueirão   Alto Boqueirão  12.110000 -25.52542  -49.24917\n1     Boqueirão        Boqueirão  14.800000 -25.50049  -49.24134\n2     Boqueirão            Hauer   4.020000 -25.48083  -49.25379\n3     Boqueirão            Xaxim   8.920000 -25.50728  -49.26509",
      "text/html": "<div>\n<style scoped>\n    .dataframe tbody tr th:only-of-type {\n        vertical-align: middle;\n    }\n\n    .dataframe tbody tr th {\n        vertical-align: top;\n    }\n\n    .dataframe thead th {\n        text-align: right;\n    }\n</style>\n<table border=\"1\" class=\"dataframe\">\n  <thead>\n    <tr style=\"text-align: right;\">\n      <th></th>\n      <th>Borough</th>\n      <th>Neighborhood</th>\n      <th>Area</th>\n      <th>Latitude</th>\n      <th>Longitude</th>\n    </tr>\n  </thead>\n  <tbody>\n    <tr>\n      <th>0</th>\n      <td>Bairro Novo</td>\n      <td>Ganchinho</td>\n      <td>11.200000</td>\n      <td>-25.57523</td>\n      <td>-49.25502</td>\n    </tr>\n    <tr>\n      <th>1</th>\n      <td>Bairro Novo</td>\n      <td>Sitio Cercado</td>\n      <td>11.120000</td>\n      <td>-25.54155</td>\n      <td>-49.26651</td>\n    </tr>\n    <tr>\n      <th>2</th>\n      <td>Bairro Novo</td>\n      <td>Umbará</td>\n      <td>22.469999</td>\n      <td>-25.58153</td>\n      <td>-49.28313</td>\n    </tr>\n    <tr>\n      <th>0</th>\n      <td>Boa Vista</td>\n      <td>Abranches</td>\n      <td>4.320000</td>\n      <td>-25.37028</td>\n      <td>-49.27007</td>\n    </tr>\n    <tr>\n      <th>1</th>\n      <td>Boa Vista</td>\n      <td>Atuba</td>\n      <td>4.270000</td>\n      <td>-25.43333</td>\n      <td>-49.23333</td>\n    </tr>\n    <tr>\n      <th>2</th>\n      <td>Boa Vista</td>\n      <td>Bacacheri</td>\n      <td>6.980000</td>\n      <td>-25.39847</td>\n      <td>-49.23038</td>\n    </tr>\n    <tr>\n      <th>3</th>\n      <td>Boa Vista</td>\n      <td>Bairro Alto</td>\n      <td>7.020000</td>\n      <td>-25.41102</td>\n      <td>-49.20442</td>\n    </tr>\n    <tr>\n      <th>4</th>\n      <td>Boa Vista</td>\n      <td>Barreirinha</td>\n      <td>3.730000</td>\n      <td>-25.37337</td>\n      <td>-49.25943</td>\n    </tr>\n    <tr>\n      <th>5</th>\n      <td>Boa Vista</td>\n      <td>Boa Vista</td>\n      <td>5.140000</td>\n      <td>-25.38704</td>\n      <td>-49.24761</td>\n    </tr>\n    <tr>\n      <th>6</th>\n      <td>Boa Vista</td>\n      <td>Cachoeira</td>\n      <td>3.070000</td>\n      <td>-25.35376</td>\n      <td>-49.26428</td>\n    </tr>\n    <tr>\n      <th>7</th>\n      <td>Boa Vista</td>\n      <td>Pilarzinho</td>\n      <td>7.130000</td>\n      <td>-25.39047</td>\n      <td>-49.28553</td>\n    </tr>\n    <tr>\n      <th>8</th>\n      <td>Boa Vista</td>\n      <td>Santa Cândida</td>\n      <td>10.330000</td>\n      <td>-25.36528</td>\n      <td>-49.23027</td>\n    </tr>\n    <tr>\n      <th>9</th>\n      <td>Boa Vista</td>\n      <td>São Lourenço</td>\n      <td>2.260000</td>\n      <td>-25.39181</td>\n      <td>-49.26778</td>\n    </tr>\n    <tr>\n      <th>10</th>\n      <td>Boa Vista</td>\n      <td>Taboão</td>\n      <td>1.720000</td>\n      <td>-25.37122</td>\n      <td>-49.28092</td>\n    </tr>\n    <tr>\n      <th>11</th>\n      <td>Boa Vista</td>\n      <td>Tarumã</td>\n      <td>4.170000</td>\n      <td>-25.43086</td>\n      <td>-49.22609</td>\n    </tr>\n    <tr>\n      <th>12</th>\n      <td>Boa Vista</td>\n      <td>Tingui</td>\n      <td>2.110000</td>\n      <td>-25.38577</td>\n      <td>-49.21993</td>\n    </tr>\n    <tr>\n      <th>0</th>\n      <td>Boqueirão</td>\n      <td>Alto Boqueirão</td>\n      <td>12.110000</td>\n      <td>-25.52542</td>\n      <td>-49.24917</td>\n    </tr>\n    <tr>\n      <th>1</th>\n      <td>Boqueirão</td>\n      <td>Boqueirão</td>\n      <td>14.800000</td>\n      <td>-25.50049</td>\n      <td>-49.24134</td>\n    </tr>\n    <tr>\n      <th>2</th>\n      <td>Boqueirão</td>\n      <td>Hauer</td>\n      <td>4.020000</td>\n      <td>-25.48083</td>\n      <td>-49.25379</td>\n    </tr>\n    <tr>\n      <th>3</th>\n      <td>Boqueirão</td>\n      <td>Xaxim</td>\n      <td>8.920000</td>\n      <td>-25.50728</td>\n      <td>-49.26509</td>\n    </tr>\n  </tbody>\n</table>\n</div>"
     },
     "metadata": {},
     "execution_count": 4
    }
   ],
   "source": [
    "latitude = []\n",
    "longitude = []\n",
    "\n",
    "# For each neighborhood, find its coordinates and append it to the latitude and longitude lists\n",
    "for neighborhood in df_curitiba['Neighborhood']:\n",
    "    lat_lng_coords = None\n",
    "\n",
    "    while(lat_lng_coords is None):\n",
    "        g = geocoder.arcgis('{}, Curitiba, Brasil'.format(neighborhood))\n",
    "        lat_lng_coords = g.latlng\n",
    "\n",
    "    latitude.append(lat_lng_coords[0])\n",
    "    longitude.append(lat_lng_coords[1])\n",
    "\n",
    "# Create new columns with the latitude and longitude lists\n",
    "df_curitiba['Latitude'] = latitude\n",
    "df_curitiba['Longitude'] = longitude\n",
    "\n",
    "df_curitiba.reset_index(drop = True)\n",
    "\n",
    "# Print the dataframe \n",
    "df_curitiba.head(20)"
   ]
  }
 ],
 "metadata": {
  "language_info": {
   "codemirror_mode": {
    "name": "ipython",
    "version": 3
   },
   "file_extension": ".py",
   "mimetype": "text/x-python",
   "name": "python",
   "nbconvert_exporter": "python",
   "pygments_lexer": "ipython3",
   "version": "3.6.2-final"
  },
  "orig_nbformat": 2,
  "kernelspec": {
   "name": "python36264bit9ba4f3a1dc8442db94d5a971bf261fe4",
   "display_name": "Python 3.6.2 64-bit"
  }
 },
 "nbformat": 4,
 "nbformat_minor": 2
}