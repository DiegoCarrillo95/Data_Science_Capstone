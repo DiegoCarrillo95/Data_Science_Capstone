{
 "cells": [
  {
   "cell_type": "markdown",
   "metadata": {},
   "source": [
    "# Applied Data Science Capstone Project\n",
    "## Final Project of [IBM's Data Science Professional Certificate Course] (https://www.coursera.org/professional-certificates/ibm-data-science)\n",
    "## Part 1:\n",
    "## Clustering neighborhoods of Toronto (CA) based on the similarities of their venues "
   ]
  },
  {
   "cell_type": "markdown",
   "metadata": {},
   "source": [
    "First, let's import all the libraries needed"
   ]
  },
  {
   "cell_type": "code",
   "execution_count": 1,
   "metadata": {},
   "outputs": [],
   "source": [
    "import pandas as pd\n",
    "import numpy as np \n",
    "import geocoder\n",
    "import requests \n",
    "import folium\n",
    "\n",
    "import matplotlib.cm as cm\n",
    "import matplotlib.colors as colors\n",
    "\n",
    "from pandas.io.html import read_html\n",
    "from sklearn.cluster import KMeans\n"
   ]
  },
  {
   "cell_type": "markdown",
   "metadata": {},
   "source": [
    "### Downloading Data\n",
    "Let's scrape the Toronto's neighborhoods dataframe from a wikipedia table"
   ]
  },
  {
   "cell_type": "code",
   "execution_count": 2,
   "metadata": {},
   "outputs": [],
   "source": [
    "# Get a list of wiki tables from the following link \n",
    "page = 'https://en.wikipedia.org/wiki/List_of_postal_codes_of_Canada:_M'\n",
    "wikitable = read_html(page,  attrs = {\"class\":\"wikitable\"})\n",
    "\n",
    "# Get the dataframe for the first table \n",
    "df_toronto = wikitable[0]"
   ]
  },
  {
   "cell_type": "markdown",
   "metadata": {},
   "source": [
    "### Pre-processing"
   ]
  },
  {
   "cell_type": "code",
   "execution_count": 3,
   "metadata": {},
   "outputs": [
    {
     "output_type": "execute_result",
     "data": {
      "text/plain": "   Postalcode           Borough  \\\n0         M3A        North York   \n1         M4A        North York   \n2         M5A  Downtown Toronto   \n3         M6A        North York   \n4         M7A  Downtown Toronto   \n5         M9A         Etobicoke   \n6         M1B       Scarborough   \n7         M4B         East York   \n8         M5B  Downtown Toronto   \n9         M6B        North York   \n10        M9B         Etobicoke   \n11        M1C       Scarborough   \n12        M4C         East York   \n13        M5C  Downtown Toronto   \n14        M6C              York   \n15        M9C         Etobicoke   \n16        M1E       Scarborough   \n17        M4E      East Toronto   \n18        M5E  Downtown Toronto   \n19        M6E              York   \n\n                                         Neighborhood  \n0                                           Parkwoods  \n1                                    Victoria Village  \n2                           Regent Park, Harbourfront  \n3                    Lawrence Manor, Lawrence Heights  \n4         Queen's Park, Ontario Provincial Government  \n5                                    Islington Avenue  \n6                                      Malvern, Rouge  \n7                     Parkview Hill, Woodbine Gardens  \n8                            Garden District, Ryerson  \n9                                           Glencairn  \n10  West Deane Park, Princess Gardens, Martin Grov...  \n11             Rouge Hill, Port Union, Highland Creek  \n12                                   Woodbine Heights  \n13                                     St. James Town  \n14                                 Humewood-Cedarvale  \n15  Eringate, Bloordale Gardens, Old Burnhamthorpe...  \n16                  Guildwood, Morningside, West Hill  \n17                                        The Beaches  \n18                                        Berczy Park  \n19                                Caledonia-Fairbanks  ",
      "text/html": "<div>\n<style scoped>\n    .dataframe tbody tr th:only-of-type {\n        vertical-align: middle;\n    }\n\n    .dataframe tbody tr th {\n        vertical-align: top;\n    }\n\n    .dataframe thead th {\n        text-align: right;\n    }\n</style>\n<table border=\"1\" class=\"dataframe\">\n  <thead>\n    <tr style=\"text-align: right;\">\n      <th></th>\n      <th>Postalcode</th>\n      <th>Borough</th>\n      <th>Neighborhood</th>\n    </tr>\n  </thead>\n  <tbody>\n    <tr>\n      <th>0</th>\n      <td>M3A</td>\n      <td>North York</td>\n      <td>Parkwoods</td>\n    </tr>\n    <tr>\n      <th>1</th>\n      <td>M4A</td>\n      <td>North York</td>\n      <td>Victoria Village</td>\n    </tr>\n    <tr>\n      <th>2</th>\n      <td>M5A</td>\n      <td>Downtown Toronto</td>\n      <td>Regent Park, Harbourfront</td>\n    </tr>\n    <tr>\n      <th>3</th>\n      <td>M6A</td>\n      <td>North York</td>\n      <td>Lawrence Manor, Lawrence Heights</td>\n    </tr>\n    <tr>\n      <th>4</th>\n      <td>M7A</td>\n      <td>Downtown Toronto</td>\n      <td>Queen's Park, Ontario Provincial Government</td>\n    </tr>\n    <tr>\n      <th>5</th>\n      <td>M9A</td>\n      <td>Etobicoke</td>\n      <td>Islington Avenue</td>\n    </tr>\n    <tr>\n      <th>6</th>\n      <td>M1B</td>\n      <td>Scarborough</td>\n      <td>Malvern, Rouge</td>\n    </tr>\n    <tr>\n      <th>7</th>\n      <td>M4B</td>\n      <td>East York</td>\n      <td>Parkview Hill, Woodbine Gardens</td>\n    </tr>\n    <tr>\n      <th>8</th>\n      <td>M5B</td>\n      <td>Downtown Toronto</td>\n      <td>Garden District, Ryerson</td>\n    </tr>\n    <tr>\n      <th>9</th>\n      <td>M6B</td>\n      <td>North York</td>\n      <td>Glencairn</td>\n    </tr>\n    <tr>\n      <th>10</th>\n      <td>M9B</td>\n      <td>Etobicoke</td>\n      <td>West Deane Park, Princess Gardens, Martin Grov...</td>\n    </tr>\n    <tr>\n      <th>11</th>\n      <td>M1C</td>\n      <td>Scarborough</td>\n      <td>Rouge Hill, Port Union, Highland Creek</td>\n    </tr>\n    <tr>\n      <th>12</th>\n      <td>M4C</td>\n      <td>East York</td>\n      <td>Woodbine Heights</td>\n    </tr>\n    <tr>\n      <th>13</th>\n      <td>M5C</td>\n      <td>Downtown Toronto</td>\n      <td>St. James Town</td>\n    </tr>\n    <tr>\n      <th>14</th>\n      <td>M6C</td>\n      <td>York</td>\n      <td>Humewood-Cedarvale</td>\n    </tr>\n    <tr>\n      <th>15</th>\n      <td>M9C</td>\n      <td>Etobicoke</td>\n      <td>Eringate, Bloordale Gardens, Old Burnhamthorpe...</td>\n    </tr>\n    <tr>\n      <th>16</th>\n      <td>M1E</td>\n      <td>Scarborough</td>\n      <td>Guildwood, Morningside, West Hill</td>\n    </tr>\n    <tr>\n      <th>17</th>\n      <td>M4E</td>\n      <td>East Toronto</td>\n      <td>The Beaches</td>\n    </tr>\n    <tr>\n      <th>18</th>\n      <td>M5E</td>\n      <td>Downtown Toronto</td>\n      <td>Berczy Park</td>\n    </tr>\n    <tr>\n      <th>19</th>\n      <td>M6E</td>\n      <td>York</td>\n      <td>Caledonia-Fairbanks</td>\n    </tr>\n  </tbody>\n</table>\n</div>"
     },
     "metadata": {},
     "execution_count": 3
    }
   ],
   "source": [
    "# Drop all rows where borough is not assigned\n",
    "df_toronto.drop(df_toronto[df_toronto['Borough'] == 'Not assigned'].index, inplace = True)\n",
    "\n",
    "# Drop duplicate values\n",
    "df_toronto.drop_duplicates(subset = 'Neighborhood', keep = False, inplace = True)\n",
    "\n",
    "# As neighborhoods are already grouped by postal codes, only replace the slashes with commas \n",
    "for i in df_toronto.index:\n",
    "    df_toronto.at[i, 'Neighborhood'] = df_toronto.at[i, 'Neighborhood'].replace(\" /\", \",\")\n",
    "\n",
    "# Also, there are no \"Not assigned\" neighborhoods, so there is no need to correct it\n",
    "\n",
    "# Reset the index, as some rows were dropped \n",
    "df_toronto.reset_index(drop = True, inplace = True)\n",
    "\n",
    "# Print the dataframe\n",
    "df_toronto.head(20)"
   ]
  },
  {
   "cell_type": "markdown",
   "metadata": {},
   "source": [
    "Let's create a subset containing only the boroughs with \"Toronto\" in its name, to make it simpler to analyze it"
   ]
  },
  {
   "cell_type": "code",
   "execution_count": 4,
   "metadata": {},
   "outputs": [],
   "source": [
    "boroughs_containing_toronto = df_toronto[df_toronto['Borough'].str.contains(\"Toronto\")].reset_index(drop=True)"
   ]
  },
  {
   "cell_type": "markdown",
   "metadata": {},
   "source": [
    "Now, let's add the Latitude and Logitude for each location "
   ]
  },
  {
   "cell_type": "code",
   "execution_count": 5,
   "metadata": {},
   "outputs": [
    {
     "output_type": "execute_result",
     "data": {
      "text/plain": "   Postalcode           Borough  \\\n0         M5A  Downtown Toronto   \n1         M7A  Downtown Toronto   \n2         M5B  Downtown Toronto   \n3         M5C  Downtown Toronto   \n4         M4E      East Toronto   \n5         M5E  Downtown Toronto   \n6         M5G  Downtown Toronto   \n7         M6G  Downtown Toronto   \n8         M5H  Downtown Toronto   \n9         M6H      West Toronto   \n10        M5J  Downtown Toronto   \n11        M6J      West Toronto   \n12        M4K      East Toronto   \n13        M5K  Downtown Toronto   \n14        M6K      West Toronto   \n15        M4L      East Toronto   \n16        M5L  Downtown Toronto   \n17        M4M      East Toronto   \n18        M4N   Central Toronto   \n19        M5N   Central Toronto   \n\n                                         Neighborhood   Latitude  Longitude  \n0                           Regent Park, Harbourfront  43.650964 -79.353041  \n1         Queen's Park, Ontario Provincial Government  43.661790 -79.389390  \n2                            Garden District, Ryerson  43.657491 -79.377529  \n3                                      St. James Town  43.651734 -79.375554  \n4                                         The Beaches  43.678148 -79.295349  \n5                                         Berczy Park  43.645196 -79.373855  \n6                                  Central Bay Street  43.656072 -79.385653  \n7                                            Christie  43.668602 -79.420387  \n8                            Richmond, Adelaide, King  43.650542 -79.384116  \n9                        Dufferin, Dovercourt Village  43.664910 -79.438664  \n10  Harbourfront East, Union Station, Toronto Islands  43.623750 -79.369200  \n11                           Little Portugal, Trinity  43.648636 -79.417752  \n12                       The Danforth West, Riverdale  43.683424 -79.354564  \n13           Toronto Dominion Centre, Design Exchange  43.646923 -79.381626  \n14       Brockton, Parkdale Village, Exhibition Place  43.639922 -79.431240  \n15                     India Bazaar, The Beaches West  43.668291 -79.315578  \n16                     Commerce Court, Victoria Hotel  43.648283 -79.378750  \n17                                    Studio District  43.648000 -79.339260  \n18                                      Lawrence Park  43.729455 -79.386415  \n19                                           Roselawn  43.710634 -79.418748  ",
      "text/html": "<div>\n<style scoped>\n    .dataframe tbody tr th:only-of-type {\n        vertical-align: middle;\n    }\n\n    .dataframe tbody tr th {\n        vertical-align: top;\n    }\n\n    .dataframe thead th {\n        text-align: right;\n    }\n</style>\n<table border=\"1\" class=\"dataframe\">\n  <thead>\n    <tr style=\"text-align: right;\">\n      <th></th>\n      <th>Postalcode</th>\n      <th>Borough</th>\n      <th>Neighborhood</th>\n      <th>Latitude</th>\n      <th>Longitude</th>\n    </tr>\n  </thead>\n  <tbody>\n    <tr>\n      <th>0</th>\n      <td>M5A</td>\n      <td>Downtown Toronto</td>\n      <td>Regent Park, Harbourfront</td>\n      <td>43.650964</td>\n      <td>-79.353041</td>\n    </tr>\n    <tr>\n      <th>1</th>\n      <td>M7A</td>\n      <td>Downtown Toronto</td>\n      <td>Queen's Park, Ontario Provincial Government</td>\n      <td>43.661790</td>\n      <td>-79.389390</td>\n    </tr>\n    <tr>\n      <th>2</th>\n      <td>M5B</td>\n      <td>Downtown Toronto</td>\n      <td>Garden District, Ryerson</td>\n      <td>43.657491</td>\n      <td>-79.377529</td>\n    </tr>\n    <tr>\n      <th>3</th>\n      <td>M5C</td>\n      <td>Downtown Toronto</td>\n      <td>St. James Town</td>\n      <td>43.651734</td>\n      <td>-79.375554</td>\n    </tr>\n    <tr>\n      <th>4</th>\n      <td>M4E</td>\n      <td>East Toronto</td>\n      <td>The Beaches</td>\n      <td>43.678148</td>\n      <td>-79.295349</td>\n    </tr>\n    <tr>\n      <th>5</th>\n      <td>M5E</td>\n      <td>Downtown Toronto</td>\n      <td>Berczy Park</td>\n      <td>43.645196</td>\n      <td>-79.373855</td>\n    </tr>\n    <tr>\n      <th>6</th>\n      <td>M5G</td>\n      <td>Downtown Toronto</td>\n      <td>Central Bay Street</td>\n      <td>43.656072</td>\n      <td>-79.385653</td>\n    </tr>\n    <tr>\n      <th>7</th>\n      <td>M6G</td>\n      <td>Downtown Toronto</td>\n      <td>Christie</td>\n      <td>43.668602</td>\n      <td>-79.420387</td>\n    </tr>\n    <tr>\n      <th>8</th>\n      <td>M5H</td>\n      <td>Downtown Toronto</td>\n      <td>Richmond, Adelaide, King</td>\n      <td>43.650542</td>\n      <td>-79.384116</td>\n    </tr>\n    <tr>\n      <th>9</th>\n      <td>M6H</td>\n      <td>West Toronto</td>\n      <td>Dufferin, Dovercourt Village</td>\n      <td>43.664910</td>\n      <td>-79.438664</td>\n    </tr>\n    <tr>\n      <th>10</th>\n      <td>M5J</td>\n      <td>Downtown Toronto</td>\n      <td>Harbourfront East, Union Station, Toronto Islands</td>\n      <td>43.623750</td>\n      <td>-79.369200</td>\n    </tr>\n    <tr>\n      <th>11</th>\n      <td>M6J</td>\n      <td>West Toronto</td>\n      <td>Little Portugal, Trinity</td>\n      <td>43.648636</td>\n      <td>-79.417752</td>\n    </tr>\n    <tr>\n      <th>12</th>\n      <td>M4K</td>\n      <td>East Toronto</td>\n      <td>The Danforth West, Riverdale</td>\n      <td>43.683424</td>\n      <td>-79.354564</td>\n    </tr>\n    <tr>\n      <th>13</th>\n      <td>M5K</td>\n      <td>Downtown Toronto</td>\n      <td>Toronto Dominion Centre, Design Exchange</td>\n      <td>43.646923</td>\n      <td>-79.381626</td>\n    </tr>\n    <tr>\n      <th>14</th>\n      <td>M6K</td>\n      <td>West Toronto</td>\n      <td>Brockton, Parkdale Village, Exhibition Place</td>\n      <td>43.639922</td>\n      <td>-79.431240</td>\n    </tr>\n    <tr>\n      <th>15</th>\n      <td>M4L</td>\n      <td>East Toronto</td>\n      <td>India Bazaar, The Beaches West</td>\n      <td>43.668291</td>\n      <td>-79.315578</td>\n    </tr>\n    <tr>\n      <th>16</th>\n      <td>M5L</td>\n      <td>Downtown Toronto</td>\n      <td>Commerce Court, Victoria Hotel</td>\n      <td>43.648283</td>\n      <td>-79.378750</td>\n    </tr>\n    <tr>\n      <th>17</th>\n      <td>M4M</td>\n      <td>East Toronto</td>\n      <td>Studio District</td>\n      <td>43.648000</td>\n      <td>-79.339260</td>\n    </tr>\n    <tr>\n      <th>18</th>\n      <td>M4N</td>\n      <td>Central Toronto</td>\n      <td>Lawrence Park</td>\n      <td>43.729455</td>\n      <td>-79.386415</td>\n    </tr>\n    <tr>\n      <th>19</th>\n      <td>M5N</td>\n      <td>Central Toronto</td>\n      <td>Roselawn</td>\n      <td>43.710634</td>\n      <td>-79.418748</td>\n    </tr>\n  </tbody>\n</table>\n</div>"
     },
     "metadata": {},
     "execution_count": 5
    }
   ],
   "source": [
    "latitude = []\n",
    "longitude = []\n",
    "\n",
    "# For each postal code, we find its coordinates and append it to the latitude and longitude lists\n",
    "for postal_code in boroughs_containing_toronto['Postalcode']:\n",
    "    lat_lng_coords = None\n",
    "\n",
    "    while(lat_lng_coords is None):\n",
    "        g = geocoder.arcgis('{}, Toronto, Ontario'.format(postal_code))\n",
    "        lat_lng_coords = g.latlng\n",
    "\n",
    "    latitude.append(lat_lng_coords[0])\n",
    "    longitude.append(lat_lng_coords[1])\n",
    "\n",
    "# Create new columns with the latitude and longitude lists\n",
    "boroughs_containing_toronto['Latitude'] = latitude\n",
    "boroughs_containing_toronto['Longitude'] = longitude\n",
    "\n",
    "# Print the dataframe \n",
    "boroughs_containing_toronto.head(20)"
   ]
  },
  {
   "cell_type": "markdown",
   "metadata": {},
   "source": [
    "### Explore and analyze neighborhoods in Toronto\n",
    "First, we declare the foursquare credentials\n"
   ]
  },
  {
   "cell_type": "code",
   "execution_count": 6,
   "metadata": {},
   "outputs": [],
   "source": [
    "CLIENT_ID = 'CSB5CUHREMDRX4YDSCQICEVW0VVYSWWZOCGLOKW4NTAYQFG0'\n",
    "CLIENT_SECRET = 'S5PTZPM2UWJ4JWYQVXVIHYWO3EA3HGGABO5FCKUIVMFW1M3A' \n",
    "VERSION = '20180605' # Foursquare API version"
   ]
  },
  {
   "cell_type": "markdown",
   "metadata": {},
   "source": [
    "Then let's define a function to get the venues of the neighborhoods from the foursquare API"
   ]
  },
  {
   "cell_type": "code",
   "execution_count": 7,
   "metadata": {},
   "outputs": [],
   "source": [
    "LIMIT = 100\n",
    "\n",
    "def getNearbyVenues(names, latitudes, longitudes, radius=500):\n",
    "    \n",
    "    venues_list=[]\n",
    "    for name, lat, lng in zip(names, latitudes, longitudes):\n",
    "            \n",
    "        # Create the API request URL\n",
    "        url = 'https://api.foursquare.com/v2/venues/explore?&client_id={}&client_secret={}&v={}&ll={},{}&radius={}&limit={}'.format(\n",
    "            CLIENT_ID, \n",
    "            CLIENT_SECRET, \n",
    "            VERSION, \n",
    "            lat, \n",
    "            lng, \n",
    "            radius, \n",
    "            LIMIT)\n",
    "            \n",
    "        # Make the GET request\n",
    "        results = requests.get(url).json()[\"response\"]['groups'][0]['items']\n",
    "        \n",
    "        # Return only relevant information for each nearby venue\n",
    "        venues_list.append([(\n",
    "            name, \n",
    "            lat, \n",
    "            lng, \n",
    "            v['venue']['name'], \n",
    "            v['venue']['location']['lat'], \n",
    "            v['venue']['location']['lng'],  \n",
    "            v['venue']['categories'][0]['name']) for v in results])            \n",
    "\n",
    "    nearby_venues = pd.DataFrame([item for venue_list in venues_list for item in venue_list])\n",
    "    nearby_venues.columns = ['Neighborhood', \n",
    "                  'Neighborhood Latitude', \n",
    "                  'Neighborhood Longitude', \n",
    "                  'Venue', \n",
    "                  'Venue Latitude', \n",
    "                  'Venue Longitude', \n",
    "                  'Venue Category']\n",
    "    \n",
    "    return(nearby_venues)"
   ]
  },
  {
   "cell_type": "markdown",
   "metadata": {},
   "source": [
    "Then we can get a dataframe containing the venues in the given radius for each neighborhood"
   ]
  },
  {
   "cell_type": "code",
   "execution_count": 8,
   "metadata": {},
   "outputs": [],
   "source": [
    "toronto_venues = getNearbyVenues(names = boroughs_containing_toronto['Neighborhood'],\n",
    "                                   latitudes = boroughs_containing_toronto['Latitude'],\n",
    "                                   longitudes = boroughs_containing_toronto['Longitude'])"
   ]
  },
  {
   "cell_type": "markdown",
   "metadata": {},
   "source": [
    "We need to process the dataset again to prepare it for the clustering algorithm  "
   ]
  },
  {
   "cell_type": "code",
   "execution_count": 9,
   "metadata": {},
   "outputs": [],
   "source": [
    "# Apply one hot encoding\n",
    "toronto_onehot = pd.get_dummies(toronto_venues[['Venue Category']], prefix=\"\", prefix_sep=\"\")\n",
    "\n",
    "# Add neighborhood column back to dataframe\n",
    "toronto_onehot['Neighborhood'] = toronto_venues['Neighborhood'] \n",
    "\n",
    "# Move neighborhood column to the first column\n",
    "fixed_columns = [toronto_onehot.columns[-1]] + list(toronto_onehot.columns[:-1])\n",
    "toronto_onehot = toronto_onehot[fixed_columns]\n",
    "\n",
    "# Group rows by neighborhood and take the mean of the frequency of occurrency of each category\n",
    "toronto_grouped = toronto_onehot.groupby('Neighborhood').mean().reset_index()"
   ]
  },
  {
   "cell_type": "markdown",
   "metadata": {},
   "source": [
    "### Cluster neighborhoods\n",
    "\n",
    "Let's create 8 different clusters based on the similarities of venues"
   ]
  },
  {
   "cell_type": "code",
   "execution_count": 10,
   "metadata": {},
   "outputs": [],
   "source": [
    "# Set number of clusters\n",
    "kclusters = 8\n",
    "\n",
    "toronto_grouped_clustering = toronto_grouped.drop('Neighborhood', 1)\n",
    "\n",
    "# Run k-means clustering\n",
    "kmeans = KMeans(n_clusters=kclusters, random_state=0).fit(toronto_grouped_clustering)"
   ]
  },
  {
   "cell_type": "markdown",
   "metadata": {},
   "source": [
    "Then, we merge the cluster labels with the neighborhood location dataframe, creating the 'toronto_merged' dataframe"
   ]
  },
  {
   "cell_type": "code",
   "execution_count": 11,
   "metadata": {},
   "outputs": [],
   "source": [
    "# Insert labels on the grouped dataframe\n",
    "toronto_grouped.insert(0, 'Cluster Labels', kmeans.labels_)\n",
    "\n",
    "# Join toronto_grouped and boroughs_containing_toronto by the Neighborhoods column\n",
    "toronto_merged = boroughs_containing_toronto.join(toronto_grouped[['Neighborhood','Cluster Labels']].set_index('Neighborhood'), on='Neighborhood')\n",
    "\n",
    "# Drop NAN values in case they exist and convert the labels to int\n",
    "toronto_merged.dropna(inplace = True)\n",
    "toronto_merged['Cluster Labels'] = toronto_merged['Cluster Labels'].astype(int)\n"
   ]
  },
  {
   "cell_type": "markdown",
   "metadata": {},
   "source": [
    "Finally, we can print the map containing the neighborhoods colored by their labels"
   ]
  },
  {
   "cell_type": "code",
   "execution_count": 12,
   "metadata": {},
   "outputs": [
    {
     "output_type": "execute_result",
     "data": {
      "text/plain": "<folium.folium.Map at 0x7f0c0a8d9d68>",
      "text/html": "<div style=\"width:100%;\"><div style=\"position:relative;width:100%;height:0;padding-bottom:60%;\"><span style=\"color:#565656\">Make this Notebook Trusted to load map: File -> Trust Notebook</span><iframe src=\"about:blank\" style=\"position:absolute;width:100%;height:100%;left:0;top:0;border:none !important;\" data-html=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 onload=\"this.contentDocument.open();this.contentDocument.write(atob(this.getAttribute('data-html')));this.contentDocument.close();\" allowfullscreen webkitallowfullscreen mozallowfullscreen></iframe></div></div>"
     },
     "metadata": {},
     "execution_count": 12
    }
   ],
   "source": [
    "# Get Toronto city coordinates\n",
    "g = geocoder.arcgis('Toronto, Ontario')\n",
    "lat_lng_coords = g.latlng\n",
    "toronto_latitude = lat_lng_coords[0]\n",
    "toronto_longitude = lat_lng_coords[1]\n",
    "\n",
    "# Create map centered in Toronto city\n",
    "map_clusters = folium.Map(location=[toronto_latitude, toronto_longitude], zoom_start=12)\n",
    "\n",
    "# Set color scheme for the clusters\n",
    "x = np.arange(kclusters)\n",
    "ys = [i + x + (i*x)**2 for i in range(kclusters)]\n",
    "colors_array = cm.rainbow(np.linspace(0, 1, len(ys)))\n",
    "rainbow = [colors.rgb2hex(i) for i in colors_array]\n",
    "\n",
    "# Add markers to the map\n",
    "markers_colors = []\n",
    "for lat, lon, poi, cluster in zip(toronto_merged['Latitude'], toronto_merged['Longitude'], toronto_merged['Neighborhood'], toronto_merged['Cluster Labels']):\n",
    "    label = folium.Popup(str(poi) + ' Cluster ' + str(cluster), parse_html=True)\n",
    "    folium.CircleMarker(\n",
    "        [lat, lon],\n",
    "        radius=5,\n",
    "        popup=label,\n",
    "        color=rainbow[cluster-1],\n",
    "        fill=True,\n",
    "        fill_color=rainbow[cluster-1],\n",
    "        fill_opacity=0.7).add_to(map_clusters)\n",
    "       \n",
    "map_clusters"
   ]
  },
  {
   "cell_type": "code",
   "execution_count": 13,
   "metadata": {},
   "outputs": [],
   "source": [
    "# Saves the map to an html file\n",
    "map_clusters.save('result_map.html')"
   ]
  },
  {
   "cell_type": "markdown",
   "metadata": {},
   "source": [
    "We can notice that a lot of neighborhoods in the boroughs that contain the word \"Toronto\" are very much alike, as almost all of them are grouped in the cluster with label 0"
   ]
  }
 ],
 "metadata": {
  "language_info": {
   "codemirror_mode": {
    "name": "ipython",
    "version": 3
   },
   "file_extension": ".py",
   "mimetype": "text/x-python",
   "name": "python",
   "nbconvert_exporter": "python",
   "pygments_lexer": "ipython3",
   "version": "3.6.2-final"
  },
  "orig_nbformat": 2,
  "kernelspec": {
   "name": "python36264bit9ba4f3a1dc8442db94d5a971bf261fe4",
   "display_name": "Python 3.6.2 64-bit"
  }
 },
 "nbformat": 4,
 "nbformat_minor": 2
}